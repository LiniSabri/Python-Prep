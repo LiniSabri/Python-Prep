{
 "cells": [
  {
   "attachments": {},
   "cell_type": "markdown",
   "metadata": {},
   "source": [
    "## Funciones"
   ]
  },
  {
   "attachments": {},
   "cell_type": "markdown",
   "metadata": {},
   "source": [
    "1) Crear una función que reciba un número como parámetro y devuelva True si es primo y False si no lo es"
   ]
  },
  {
   "cell_type": "code",
   "execution_count": 3,
   "metadata": {},
   "outputs": [
    {
     "name": "stdout",
     "output_type": "stream",
     "text": [
      "17 es un número primo.\n"
     ]
    }
   ],
   "source": [
    "def definir_primo (x):\n",
    "    if (x <=1):\n",
    "        return False    \n",
    "    for i in range(2, int(numero ** 0.5) + 1):\n",
    "        if numero % i == 0:\n",
    "            return False\n",
    "    return True\n",
    "\n",
    "# Ejemplo \n",
    "numero = 17  \n",
    "if definir_primo(numero):\n",
    "    print(f\"{numero} es un número primo.\")\n",
    "else:\n",
    "    print(f\"{numero} no es un número primo.\")\n",
    "\n",
    "\n",
    "\n"
   ]
  },
  {
   "attachments": {},
   "cell_type": "markdown",
   "metadata": {},
   "source": [
    "2) Utilizando la función del punto 1, realizar otra función que reciba de parámetro una lista de números y devuelva sólo aquellos que son primos en otra lista"
   ]
  },
  {
   "cell_type": "code",
   "execution_count": 6,
   "metadata": {},
   "outputs": [
    {
     "name": "stdout",
     "output_type": "stream",
     "text": [
      "Números primos en la lista: [2, 3, 5, 7, 23, 47]\n"
     ]
    }
   ],
   "source": [
    "def es_primo(numero):\n",
    "    if numero <= 1:\n",
    "        return False\n",
    "    for i in range(2, int(numero ** 0.5) + 1):\n",
    "        if numero % i == 0:\n",
    "            return False\n",
    "    return True\n",
    "\n",
    "def numeros_primos_en_lista(lista):\n",
    "    numeros_primos = []\n",
    "    for numero in lista:\n",
    "        if es_primo(numero):\n",
    "            numeros_primos.append(numero)\n",
    "    return numeros_primos\n",
    "\n",
    "# Ejemplo \n",
    "lista_de_numeros = [2, 3, 4, 5, 6, 7, 8, 9, 10, 15, 23, 33,47,51]  \n",
    "primos_en_lista = numeros_primos_en_lista(lista_de_numeros)\n",
    "print(\"Números primos en la lista:\", primos_en_lista)\n"
   ]
  },
  {
   "attachments": {},
   "cell_type": "markdown",
   "metadata": {},
   "source": [
    "3) Crear una función que al recibir una lista de números, devuelva el que más se repite y cuántas veces lo hace. Si hay más de un \"más repetido\", que devuelva cualquiera"
   ]
  },
  {
   "cell_type": "code",
   "execution_count": 7,
   "metadata": {},
   "outputs": [
    {
     "name": "stdout",
     "output_type": "stream",
     "text": [
      "El número más repetido es 3 y se repite 4 veces.\n"
     ]
    }
   ],
   "source": [
    "def numero_mas_repetido(lista):\n",
    "    # Creao un diccionario para almacenar la frecuencia de cada número\n",
    "    frecuencia_numeros = {}\n",
    "    \n",
    "    # Iterar sobre la lista y contar la frecuencia de cada número\n",
    "    for numero in lista:\n",
    "        if numero in frecuencia_numeros:\n",
    "            frecuencia_numeros[numero] += 1\n",
    "        else:\n",
    "            frecuencia_numeros[numero] = 1\n",
    "    \n",
    "    # Encontrar el número más repetido y su frecuencia\n",
    "    numero_mas_repetido = None\n",
    "    frecuencia_maxima = 0\n",
    "    \n",
    "    #.items() permite recorrer el diccionario frecuencia_numeros y obtener tanto las claves (números) como los valores (frecuencias) asociados a esas claves, lo que facilita el cálculo de cuál es el número más repetido y cuántas veces se repite.\n",
    "    for numero, frecuencia in frecuencia_numeros.items():\n",
    "        if frecuencia > frecuencia_maxima:\n",
    "            numero_mas_repetido = numero\n",
    "            frecuencia_maxima = frecuencia\n",
    "    \n",
    "    return numero_mas_repetido, frecuencia_maxima\n",
    "\n",
    "# Ejemplo \n",
    "lista_de_numeros = [2, 3, 4, 3, 5, 2, 3, 6, 3, 7]  \n",
    "numero_repetido, frecuencia = numero_mas_repetido(lista_de_numeros)\n",
    "print(f\"El número más repetido es {numero_repetido} y se repite {frecuencia} veces.\")\n",
    "\n"
   ]
  },
  {
   "attachments": {},
   "cell_type": "markdown",
   "metadata": {},
   "source": [
    "4) Crear una función que convierta entre grados Celsius, Farenheit y Kelvin<br>\n",
    "Fórmula 1\t: (°C × 9/5) + 32 = °F<br>\n",
    "Fórmula 2\t: °C + 273.15 = °K<br>\n",
    "Debe recibir 3 parámetros: el valor, la medida de orígen y la medida de destino\n"
   ]
  },
  {
   "cell_type": "code",
   "execution_count": 3,
   "metadata": {},
   "outputs": [
    {
     "name": "stdout",
     "output_type": "stream",
     "text": [
      "41 grados Celsius son equivalentes a 105.80 grados Fahrenheit\n"
     ]
    }
   ],
   "source": [
    "def convertir_temperatura(valor, medida_origen, medida_destino):\n",
    "    if medida_origen == 'Celsius':\n",
    "        if medida_destino == 'Fahrenheit':\n",
    "            resultado = (valor * 9/5) + 32\n",
    "        elif medida_destino == 'Kelvin':\n",
    "            resultado = valor + 273.15\n",
    "        else:\n",
    "            resultado = valor  # La medida de origen y destino es la misma (Celsius)\n",
    "    elif medida_origen == 'Fahrenheit':\n",
    "        if medida_destino == 'Celsius':\n",
    "            resultado = (valor - 32) * 5/9\n",
    "        elif medida_destino == 'Kelvin':\n",
    "            resultado = (valor - 32) * 5/9 + 273.15\n",
    "        else:\n",
    "            resultado = valor  # La medida de origen y destino es la misma (Fahrenheit)\n",
    "    elif medida_origen == 'Kelvin':\n",
    "        if medida_destino == 'Celsius':\n",
    "            resultado = valor - 273.15\n",
    "        elif medida_destino == 'Fahrenheit':\n",
    "            resultado = (valor - 273.15) * 9/5 + 32\n",
    "        else:\n",
    "            resultado = valor  # La medida de origen y destino es la misma (Kelvin)\n",
    "    else:\n",
    "        resultado = valor  # Medida de origen desconocida o igual a la medida de destino\n",
    "    return resultado\n",
    "\n",
    "# Ejemplo \n",
    "valor_original = 41\n",
    "medida_original = 'Celsius'\n",
    "medida_destino = 'Fahrenheit'\n",
    "\n",
    "resultado = convertir_temperatura(valor_original, medida_original, medida_destino)\n",
    "print(f'{valor_original} grados {medida_original} son equivalentes a {resultado:.2f} grados {medida_destino}')\n"
   ]
  },
  {
   "attachments": {},
   "cell_type": "markdown",
   "metadata": {},
   "source": [
    "5) Iterando una lista con los tres valores posibles de temperatura que recibe la función del punto 5, hacer un print para cada combinación de los mismos:"
   ]
  },
  {
   "cell_type": "code",
   "execution_count": 4,
   "metadata": {},
   "outputs": [
    {
     "name": "stdout",
     "output_type": "stream",
     "text": [
      "25 grados Celsius son equivalentes a 77.00 grados Fahrenheit\n",
      "25 grados Celsius son equivalentes a 298.15 grados Kelvin\n",
      "25 grados Fahrenheit son equivalentes a -3.89 grados Celsius\n",
      "25 grados Fahrenheit son equivalentes a 269.26 grados Kelvin\n",
      "25 grados Kelvin son equivalentes a -248.15 grados Celsius\n",
      "25 grados Kelvin son equivalentes a -414.67 grados Fahrenheit\n",
      "68 grados Celsius son equivalentes a 154.40 grados Fahrenheit\n",
      "68 grados Celsius son equivalentes a 341.15 grados Kelvin\n",
      "68 grados Fahrenheit son equivalentes a 20.00 grados Celsius\n",
      "68 grados Fahrenheit son equivalentes a 293.15 grados Kelvin\n",
      "68 grados Kelvin son equivalentes a -205.15 grados Celsius\n",
      "68 grados Kelvin son equivalentes a -337.27 grados Fahrenheit\n",
      "300 grados Celsius son equivalentes a 572.00 grados Fahrenheit\n",
      "300 grados Celsius son equivalentes a 573.15 grados Kelvin\n",
      "300 grados Fahrenheit son equivalentes a 148.89 grados Celsius\n",
      "300 grados Fahrenheit son equivalentes a 422.04 grados Kelvin\n",
      "300 grados Kelvin son equivalentes a 26.85 grados Celsius\n",
      "300 grados Kelvin son equivalentes a 80.33 grados Fahrenheit\n"
     ]
    }
   ],
   "source": [
    "# lista de temperaturas ejemplo\n",
    "temperaturas = [25, 68, 300]\n",
    "\n",
    "# Lista de medidas posibles\n",
    "medidas = ['Celsius', 'Fahrenheit', 'Kelvin']\n",
    "\n",
    "# Iterar sobre cada temperatura\n",
    "for temperatura in temperaturas:\n",
    "    # Iterar sobre la medida de origen\n",
    "    for medida_origen in medidas:\n",
    "        # Iterar sobre la medida de destino\n",
    "        for medida_destino in medidas:\n",
    "            # Evitar conversiones de la misma medida de origen a la misma medida de destino\n",
    "            if medida_origen != medida_destino:\n",
    "                # Calcular la temperatura convertida\n",
    "                temperatura_convertida = convertir_temperatura(temperatura, medida_origen, medida_destino)\n",
    "                # Imprimir el resultado\n",
    "                print(f\"{temperatura} grados {medida_origen} son equivalentes a {temperatura_convertida:.2f} grados {medida_destino}\")\n"
   ]
  },
  {
   "attachments": {},
   "cell_type": "markdown",
   "metadata": {},
   "source": [
    "6) Armar una función que devuelva el factorial de un número. Tener en cuenta que el usuario puede equivocarse y enviar de parámetro un número no entero o negativo"
   ]
  },
  {
   "cell_type": "code",
   "execution_count": 10,
   "metadata": {},
   "outputs": [],
   "source": [
    "def factorial(numero):\n",
    "    # Verificar si el número no es entero o es negativo\n",
    "    if not isinstance(numero, int) or numero < 0:\n",
    "        return \"El número debe ser un entero, no negativo o complejo.\"\n",
    "    \n",
    "    # Caso base: factorial de 0 es 1\n",
    "    if numero == 0:\n",
    "        return 1\n",
    "    \n",
    "    # Inicializar el resultado\n",
    "    resultado = 1\n",
    "    \n",
    "    # Calcular el factorial\n",
    "    for i in range(1, numero + 1):\n",
    "        resultado *= i\n",
    "    \n",
    "    return resultado\n"
   ]
  },
  {
   "cell_type": "code",
   "execution_count": 11,
   "metadata": {},
   "outputs": [
    {
     "name": "stdout",
     "output_type": "stream",
     "text": [
      "40320\n",
      "El número debe ser un entero, no negativo o complejo.\n",
      "El número debe ser un entero, no negativo o complejo.\n"
     ]
    }
   ],
   "source": [
    "print (factorial(8))\n",
    "print (factorial(-16))\n",
    "print (factorial(8.6))"
   ]
  }
 ],
 "metadata": {
  "interpreter": {
   "hash": "c85384e4cb51c8b72350f3a8712cc8351fdc3955e32a27f9b60c6242ab125f01"
  },
  "kernelspec": {
   "display_name": "Python 3 (ipykernel)",
   "language": "python",
   "name": "python3"
  },
  "language_info": {
   "codemirror_mode": {
    "name": "ipython",
    "version": 3
   },
   "file_extension": ".py",
   "mimetype": "text/x-python",
   "name": "python",
   "nbconvert_exporter": "python",
   "pygments_lexer": "ipython3",
   "version": "3.11.4"
  }
 },
 "nbformat": 4,
 "nbformat_minor": 4
}
