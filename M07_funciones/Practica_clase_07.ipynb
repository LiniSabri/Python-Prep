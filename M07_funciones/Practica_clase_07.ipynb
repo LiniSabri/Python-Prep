{
 "cells": [
  {
   "cell_type": "code",
   "execution_count": 10,
   "metadata": {},
   "outputs": [
    {
     "name": "stdout",
     "output_type": "stream",
     "text": [
      "20\n"
     ]
    }
   ],
   "source": [
    "def calcular_area_rectángulo(base, altura):\n",
    "    area = base*altura\n",
    "    return area\n",
    "\n",
    "resultado = calcular_area_rectángulo(4,5)\n",
    "print(resultado)\n",
    "\n",
    "\n"
   ]
  },
  {
   "cell_type": "code",
   "execution_count": 11,
   "metadata": {},
   "outputs": [
    {
     "ename": "SyntaxError",
     "evalue": "invalid decimal literal (3292025569.py, line 1)",
     "output_type": "error",
     "traceback": [
      "\u001b[0;36m  Cell \u001b[0;32mIn[11], line 1\u001b[0;36m\u001b[0m\n\u001b[0;31m    def 2_calcular_area_rectángulo(base, altura):\u001b[0m\n\u001b[0m         ^\u001b[0m\n\u001b[0;31mSyntaxError\u001b[0m\u001b[0;31m:\u001b[0m invalid decimal literal\n"
     ]
    }
   ],
   "source": [
    "# error , no puene iniciar el nombre d ela funcion con un número\n",
    "def 2_calcular_area_rectángulo(base, altura):\n",
    "    area = base*altura\n",
    "    return area\n",
    "\n",
    "resultado = calcular_area_rectángulo(4,5)\n",
    "print(resultado)\n"
   ]
  },
  {
   "cell_type": "code",
   "execution_count": 12,
   "metadata": {},
   "outputs": [
    {
     "ename": "SyntaxError",
     "evalue": "invalid syntax (3246406130.py, line 1)",
     "output_type": "error",
     "traceback": [
      "\u001b[0;36m  Cell \u001b[0;32mIn[12], line 1\u001b[0;36m\u001b[0m\n\u001b[0;31m    def None(base, altura):\u001b[0m\n\u001b[0m        ^\u001b[0m\n\u001b[0;31mSyntaxError\u001b[0m\u001b[0;31m:\u001b[0m invalid syntax\n"
     ]
    }
   ],
   "source": [
    "# error no es posible usar palabras reservadas de phyton como nombre de fx\n",
    "def None(base, altura):\n",
    "    area = base*altura\n",
    "    return area"
   ]
  },
  {
   "cell_type": "code",
   "execution_count": 19,
   "metadata": {},
   "outputs": [
    {
     "name": "stdout",
     "output_type": "stream",
     "text": [
      "Hallo Lini\n",
      "Guten Morgen Lini\n"
     ]
    }
   ],
   "source": [
    "# en el pimer ejemplo no le colovo el valor del segundo parámetro(Hallo), pero por defecto lo pone porque s elo indiqué-\n",
    "#en el segundo saludar, le coloco los 2 valoes a cada parámetro y lo pone\n",
    "def saludar(nombre, saludo=\"Hallo\"):\n",
    "    print(saludo+ \" \" +nombre)\n",
    "\n",
    "saludar(\"Lini\")\n",
    "saludar(\"Lini\", \"Guten Morgen\")"
   ]
  },
  {
   "cell_type": "code",
   "execution_count": 22,
   "metadata": {},
   "outputs": [
    {
     "name": "stdout",
     "output_type": "stream",
     "text": [
      "Hallo Welt!\n"
     ]
    }
   ],
   "source": [
    "def imprimir_mensaje():\n",
    "        print(\"Hallo Welt!\")\n",
    "\n",
    "imprimir_mensaje()"
   ]
  },
  {
   "cell_type": "code",
   "execution_count": 26,
   "metadata": {},
   "outputs": [],
   "source": [
    "def restar (num1,num2):\n",
    "    resultado = num1 - num2\n",
    "    return resultado"
   ]
  },
  {
   "cell_type": "code",
   "execution_count": 27,
   "metadata": {},
   "outputs": [
    {
     "data": {
      "text/plain": [
       "500"
      ]
     },
     "execution_count": 27,
     "metadata": {},
     "output_type": "execute_result"
    }
   ],
   "source": [
    "restar(4500, 4000)"
   ]
  },
  {
   "cell_type": "code",
   "execution_count": 28,
   "metadata": {},
   "outputs": [],
   "source": [
    "def dividir(dividendo,divisor):\n",
    "    cociente = dividendo//divisor\n",
    "    resto = dividendo%divisor\n",
    "    return cociente, resto\n"
   ]
  },
  {
   "cell_type": "code",
   "execution_count": 29,
   "metadata": {},
   "outputs": [
    {
     "data": {
      "text/plain": [
       "(13, 5)"
      ]
     },
     "execution_count": 29,
     "metadata": {},
     "output_type": "execute_result"
    }
   ],
   "source": [
    "dividir(525, 40)"
   ]
  },
  {
   "cell_type": "code",
   "execution_count": 31,
   "metadata": {},
   "outputs": [
    {
     "name": "stdout",
     "output_type": "stream",
     "text": [
      "La edad es 30\n"
     ]
    }
   ],
   "source": [
    "#guadar en una variable el resultado de return de una función\n",
    "def obtener_edad():\n",
    "    return 30\n",
    "\n",
    "edad = obtener_edad()\n",
    "\n",
    "print(\"La edad es\", edad)"
   ]
  },
  {
   "cell_type": "code",
   "execution_count": 32,
   "metadata": {},
   "outputs": [],
   "source": [
    "#imprimir el valor de una variable dentro de u string\n",
    "\n",
    "def imprimir_valor_variable(var):\n",
    "    print(\"el valor de la variable es\", str(var))"
   ]
  },
  {
   "cell_type": "code",
   "execution_count": 33,
   "metadata": {},
   "outputs": [
    {
     "name": "stdout",
     "output_type": "stream",
     "text": [
      "el valor de la variable es 41\n"
     ]
    }
   ],
   "source": [
    "imprimir_valor_variable(41)"
   ]
  },
  {
   "cell_type": "code",
   "execution_count": 34,
   "metadata": {},
   "outputs": [],
   "source": [
    "#ordenar numeros\n",
    "def ordenar_dos_numeros(num1=0, num2=0):\n",
    "    if (num1>num2):\n",
    "        return num2, num1\n",
    "    else:\n",
    "        return num1, num2"
   ]
  },
  {
   "cell_type": "code",
   "execution_count": 35,
   "metadata": {},
   "outputs": [
    {
     "data": {
      "text/plain": [
       "(32, 56)"
      ]
     },
     "execution_count": 35,
     "metadata": {},
     "output_type": "execute_result"
    }
   ],
   "source": [
    "ordenar_dos_numeros(56, 32)"
   ]
  },
  {
   "cell_type": "code",
   "execution_count": 36,
   "metadata": {},
   "outputs": [],
   "source": [
    "def dividir (dividendo, divisor=1):\n",
    "    if (divisor ==0):\n",
    "        return \"No se puede dividir por 0 \"\n",
    "    else:\n",
    "        return dividendo/divisor"
   ]
  },
  {
   "cell_type": "code",
   "execution_count": 37,
   "metadata": {},
   "outputs": [
    {
     "name": "stdout",
     "output_type": "stream",
     "text": [
      "10.0\n"
     ]
    }
   ],
   "source": [
    "print (dividir(10))"
   ]
  },
  {
   "cell_type": "code",
   "execution_count": 38,
   "metadata": {},
   "outputs": [
    {
     "ename": "NameError",
     "evalue": "name 'divisor' is not defined",
     "output_type": "error",
     "traceback": [
      "\u001b[0;31m---------------------------------------------------------------------------\u001b[0m",
      "\u001b[0;31mNameError\u001b[0m                                 Traceback (most recent call last)",
      "\u001b[1;32m/Users/linamaria/Documents/Aprendizaje/Henry/Python-Prep/M07_funciones/Practica_clase_07.ipynb Cell 17\u001b[0m line \u001b[0;36m1\n\u001b[0;32m----> <a href='vscode-notebook-cell:/Users/linamaria/Documents/Aprendizaje/Henry/Python-Prep/M07_funciones/Practica_clase_07.ipynb#X25sZmlsZQ%3D%3D?line=0'>1</a>\u001b[0m \u001b[39mprint\u001b[39m (divisor)\n",
      "\u001b[0;31mNameError\u001b[0m: name 'divisor' is not defined"
     ]
    }
   ],
   "source": [
    "#aparece error porque divisor es una variable local que solo existe dentro de la función y deja de existir al dejar de ser llamada la fx\n",
    "print (divisor)"
   ]
  },
  {
   "cell_type": "code",
   "execution_count": 42,
   "metadata": {},
   "outputs": [
    {
     "name": "stdout",
     "output_type": "stream",
     "text": [
      "2.0\n"
     ]
    }
   ],
   "source": [
    "#puedo agregar el parámetro divisor fuera de la función:\n",
    "divisor = 5\n",
    "def dividir (dividendo):\n",
    "    if (divisor ==0):\n",
    "        return \"No se puede dividir por 0 \"\n",
    "    else:\n",
    "        return dividendo/divisor\n",
    "\n",
    "print (dividir(10))"
   ]
  },
  {
   "cell_type": "code",
   "execution_count": 43,
   "metadata": {},
   "outputs": [
    {
     "name": "stdout",
     "output_type": "stream",
     "text": [
      "5\n"
     ]
    }
   ],
   "source": [
    "print (divisor)"
   ]
  },
  {
   "cell_type": "code",
   "execution_count": 47,
   "metadata": {},
   "outputs": [
    {
     "name": "stdout",
     "output_type": "stream",
     "text": [
      "10.0\n",
      "5\n"
     ]
    }
   ],
   "source": [
    "# si encuentra una variable local, la usa asi se haya declarado la variable fuera de la funcion como variable global\n",
    "divisor = 5\n",
    "def dividir (dividendo, divisor=1):\n",
    "    if (divisor ==0):\n",
    "        return \"No se puede dividir por 0 \"\n",
    "    else:\n",
    "        return dividendo/divisor\n",
    "\n",
    "\n",
    "print (dividir (10))\n",
    "print (divisor)"
   ]
  },
  {
   "cell_type": "code",
   "execution_count": 48,
   "metadata": {},
   "outputs": [
    {
     "data": {
      "text/plain": [
       "120"
      ]
     },
     "execution_count": 48,
     "metadata": {},
     "output_type": "execute_result"
    }
   ],
   "source": [
    "#Recursividad y función factorial\n",
    "def factorial (número):\n",
    "    if (número>1):\n",
    "        número = número*factorial(número - 1)\n",
    "    return número\n",
    "\n",
    "factorial(5) # 5 x 4 x 3 x 2 x 1 = 120"
   ]
  },
  {
   "cell_type": "code",
   "execution_count": 49,
   "metadata": {},
   "outputs": [
    {
     "name": "stdout",
     "output_type": "stream",
     "text": [
      "Help on built-in function print in module builtins:\n",
      "\n",
      "print(*args, sep=' ', end='\\n', file=None, flush=False)\n",
      "    Prints the values to a stream, or to sys.stdout by default.\n",
      "    \n",
      "    sep\n",
      "      string inserted between values, default a space.\n",
      "    end\n",
      "      string appended after the last value, default a newline.\n",
      "    file\n",
      "      a file-like object (stream); defaults to the current sys.stdout.\n",
      "    flush\n",
      "      whether to forcibly flush the stream.\n",
      "\n"
     ]
    }
   ],
   "source": [
    "#funcion help() sirve para obtener info detallada de un objeto, su funcionalidad\n",
    "help(print)"
   ]
  },
  {
   "cell_type": "code",
   "execution_count": 51,
   "metadata": {},
   "outputs": [
    {
     "name": "stdout",
     "output_type": "stream",
     "text": [
      "Help on function factorial in module __main__:\n",
      "\n",
      "factorial(número)\n",
      "    calcula al factorial de un número\n",
      "\n"
     ]
    }
   ],
   "source": [
    "#se puede usar help dentro de una fx para obtener su info mediante el proceso de documentación entre comillas triples, lo cual describe lo que hace esa fx. Es lo mismo que hacer comentarios con # :) pero hace el código legible\n",
    "def factorial (número):\n",
    "    \" \" \" calcula al factorial de un número \" \" \"\n",
    "    if (número>1):\n",
    "        número = número*factorial(número - 1)\n",
    "    return número\n",
    "\n",
    "help(factorial)"
   ]
  },
  {
   "cell_type": "code",
   "execution_count": 52,
   "metadata": {},
   "outputs": [
    {
     "name": "stdout",
     "output_type": "stream",
     "text": [
      "10\n"
     ]
    }
   ],
   "source": [
    "# Pasajes por valor y pasajes por referencia\n",
    "#pasaje por valor:\n",
    "\n",
    "x = 10\n",
    "def función (entero):\n",
    "    entero = 0\n",
    "\n",
    "función(x)\n",
    "\n",
    "print(x)\n"
   ]
  },
  {
   "cell_type": "code",
   "execution_count": 55,
   "metadata": {},
   "outputs": [
    {
     "name": "stdout",
     "output_type": "stream",
     "text": [
      "[20, 40, 60, 40]\n"
     ]
    }
   ],
   "source": [
    "#ejemplo psasaje por referencia donde se modifica la variable, como en una lista:\n",
    "\n",
    "x = [20, 40, 60]\n",
    "def función(entrada):\n",
    "    entrada.append(40)\n",
    "\n",
    "función(x)\n",
    "print(x)"
   ]
  },
  {
   "cell_type": "code",
   "execution_count": 56,
   "metadata": {},
   "outputs": [
    {
     "name": "stdout",
     "output_type": "stream",
     "text": [
      "[20, 40, 60]\n"
     ]
    }
   ],
   "source": [
    "#si declaro como variable una lista vacía, nose modifica la original\n",
    "x = [20, 40, 60]\n",
    "def función(entrada):\n",
    "    entrada = []\n",
    "\n",
    "función(x)\n",
    "print(x)"
   ]
  },
  {
   "cell_type": "code",
   "execution_count": 57,
   "metadata": {},
   "outputs": [
    {
     "name": "stdout",
     "output_type": "stream",
     "text": [
      "4355024672\n"
     ]
    }
   ],
   "source": [
    "# función id() que devuelve un identificador de donde se almacena un objeto en la memoria local\n",
    "x = 20\n",
    "print(id(x))"
   ]
  },
  {
   "cell_type": "code",
   "execution_count": 59,
   "metadata": {},
   "outputs": [
    {
     "name": "stdout",
     "output_type": "stream",
     "text": [
      "4355024032\n",
      "20\n"
     ]
    }
   ],
   "source": [
    "#el id de este como entrada\n",
    "def función(entrada):\n",
    "    entrada=0\n",
    "    print(id(entrada))\n",
    "\n",
    "función(x)\n",
    "\n",
    "print(x)"
   ]
  },
  {
   "cell_type": "code",
   "execution_count": 60,
   "metadata": {},
   "outputs": [
    {
     "data": {
      "text/plain": [
       "12"
      ]
     },
     "execution_count": 60,
     "metadata": {},
     "output_type": "execute_result"
    }
   ],
   "source": [
    "#funciones lambda: en una sola linea de código, admite varios argumentos y no necesita return\n",
    "lambda_producto = lambda x, y:x*y\n",
    "lambda_producto(3,4)\n"
   ]
  }
 ],
 "metadata": {
  "kernelspec": {
   "display_name": "Python 3",
   "language": "python",
   "name": "python3"
  },
  "language_info": {
   "codemirror_mode": {
    "name": "ipython",
    "version": 3
   },
   "file_extension": ".py",
   "mimetype": "text/x-python",
   "name": "python",
   "nbconvert_exporter": "python",
   "pygments_lexer": "ipython3",
   "version": "3.11.4"
  },
  "orig_nbformat": 4
 },
 "nbformat": 4,
 "nbformat_minor": 2
}
