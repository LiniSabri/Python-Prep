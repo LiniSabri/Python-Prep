{
 "cells": [
  {
   "cell_type": "code",
   "execution_count": 1,
   "metadata": {},
   "outputs": [
    {
     "name": "stdout",
     "output_type": "stream",
     "text": [
      "Es un string este mensaje\n"
     ]
    }
   ],
   "source": [
    "#print()\n",
    "print (\"Es un string este mensaje\")"
   ]
  },
  {
   "cell_type": "code",
   "execution_count": 4,
   "metadata": {},
   "outputs": [
    {
     "name": "stdout",
     "output_type": "stream",
     "text": [
      "Este mensaje tambien es un str\n"
     ]
    }
   ],
   "source": [
    "mi_var = \"Este mensaje tambien es un str\"\n",
    "\n",
    "print (mi_var)"
   ]
  },
  {
   "cell_type": "code",
   "execution_count": 5,
   "metadata": {},
   "outputs": [
    {
     "name": "stdout",
     "output_type": "stream",
     "text": [
      "Soy un string Este mensaje tambien es un str\n"
     ]
    }
   ],
   "source": [
    "mi_var = \"Este mensaje tambien es un str\"\n",
    "print (\"Soy un string\", mi_var)\n"
   ]
  },
  {
   "cell_type": "code",
   "execution_count": 8,
   "metadata": {},
   "outputs": [
    {
     "name": "stdout",
     "output_type": "stream",
     "text": [
      "Esta oraciónes un string Esta oración tambien es str\n"
     ]
    }
   ],
   "source": [
    "mi_var = \"Esta oración\"\n",
    "print (mi_var + \"es un string \" + mi_var + \" tambien es str\")"
   ]
  },
  {
   "cell_type": "code",
   "execution_count": 9,
   "metadata": {},
   "outputs": [],
   "source": [
    "#input()\n",
    "color = input(\"cual es tu color favorito?\")"
   ]
  },
  {
   "cell_type": "code",
   "execution_count": 10,
   "metadata": {},
   "outputs": [
    {
     "name": "stdout",
     "output_type": "stream",
     "text": [
      "\n"
     ]
    }
   ],
   "source": [
    "print (color)"
   ]
  },
  {
   "cell_type": "code",
   "execution_count": 11,
   "metadata": {},
   "outputs": [
    {
     "name": "stdout",
     "output_type": "stream",
     "text": [
      "<class 'str'>\n"
     ]
    }
   ],
   "source": [
    "#input( solo da salidas de string, para numeros debo cambiarlo:\n",
    "#no entiendo como hacen en la clase para introducir el dato del input como azul y el numero ????\n",
    "\n",
    "numero = input (\"ingrese un numero\")\n",
    "print (type(numero))"
   ]
  },
  {
   "cell_type": "code",
   "execution_count": 12,
   "metadata": {},
   "outputs": [
    {
     "ename": "ValueError",
     "evalue": "invalid literal for int() with base 10: ''",
     "output_type": "error",
     "traceback": [
      "\u001b[0;31m---------------------------------------------------------------------------\u001b[0m",
      "\u001b[0;31mValueError\u001b[0m                                Traceback (most recent call last)",
      "\u001b[1;32m/Users/linamaria/Documents/Aprendizaje/Henry/Python-Prep/M10_manejodearchivos/Práctica_ManejodeSArchivos.ipynb Cell 8\u001b[0m line \u001b[0;36m1\n\u001b[0;32m----> <a href='vscode-notebook-cell:/Users/linamaria/Documents/Aprendizaje/Henry/Python-Prep/M10_manejodearchivos/Pr%C3%A1ctica_ManejodeSArchivos.ipynb#X10sZmlsZQ%3D%3D?line=0'>1</a>\u001b[0m numero \u001b[39m=\u001b[39m \u001b[39mint\u001b[39;49m(\u001b[39minput\u001b[39;49m(\u001b[39m\"\u001b[39;49m\u001b[39mingrese un numero\u001b[39;49m\u001b[39m\"\u001b[39;49m))\n\u001b[1;32m      <a href='vscode-notebook-cell:/Users/linamaria/Documents/Aprendizaje/Henry/Python-Prep/M10_manejodearchivos/Pr%C3%A1ctica_ManejodeSArchivos.ipynb#X10sZmlsZQ%3D%3D?line=1'>2</a>\u001b[0m \u001b[39mprint\u001b[39m(\u001b[39mtype\u001b[39m(numero))\n",
      "\u001b[0;31mValueError\u001b[0m: invalid literal for int() with base 10: ''"
     ]
    }
   ],
   "source": [
    "numero = int(input(\"ingrese un numero\"))\n",
    "print(type(numero))"
   ]
  },
  {
   "cell_type": "code",
   "execution_count": 13,
   "metadata": {},
   "outputs": [],
   "source": [
    "#Interactuar con el sistema de archivos\n",
    "#1. crear carpertas:\n",
    "\n",
    "import os\n",
    "\n",
    "os.makedirs (\"carpeta_nueva\")"
   ]
  },
  {
   "cell_type": "code",
   "execution_count": 14,
   "metadata": {},
   "outputs": [
    {
     "data": {
      "text/plain": [
       "[]"
      ]
     },
     "execution_count": 14,
     "metadata": {},
     "output_type": "execute_result"
    }
   ],
   "source": [
    "#2. Listar el contenido de una carpeta\n",
    "#no entiendo por que me sale una lista vacia :()\n",
    "\n",
    "import os\n",
    "os.listdir(\"./carpeta_nueva/\")"
   ]
  },
  {
   "cell_type": "code",
   "execution_count": 17,
   "metadata": {},
   "outputs": [
    {
     "data": {
      "text/plain": [
       "'/Users/linamaria/Documents/Aprendizaje/Henry/Python-Prep/M10_manejodearchivos'"
      ]
     },
     "execution_count": 17,
     "metadata": {},
     "output_type": "execute_result"
    }
   ],
   "source": [
    "#mostrar el directorio de trabajo:\n",
    "import os\n",
    "\n",
    "os.getcwd()"
   ]
  },
  {
   "cell_type": "code",
   "execution_count": 18,
   "metadata": {},
   "outputs": [
    {
     "data": {
      "text/plain": [
       "64"
      ]
     },
     "execution_count": 18,
     "metadata": {},
     "output_type": "execute_result"
    }
   ],
   "source": [
    "#Mostrar el tamaño en bites de un archivo:\n",
    "\n",
    "import os\n",
    "os.path.getsize(\"carpeta_nueva\")"
   ]
  },
  {
   "cell_type": "code",
   "execution_count": 19,
   "metadata": {},
   "outputs": [
    {
     "data": {
      "text/plain": [
       "False"
      ]
     },
     "execution_count": 19,
     "metadata": {},
     "output_type": "execute_result"
    }
   ],
   "source": [
    "#Ver si un archivo es un archivo y arroja la respuesta en un valor booleano:\n",
    "\n",
    "import os\n",
    "os.path.isfile(\"carpeta_nueva\")"
   ]
  },
  {
   "cell_type": "code",
   "execution_count": 20,
   "metadata": {},
   "outputs": [
    {
     "data": {
      "text/plain": [
       "True"
      ]
     },
     "execution_count": 20,
     "metadata": {},
     "output_type": "execute_result"
    }
   ],
   "source": [
    "#verificar si es una carpeta\n",
    "\n",
    "import os\n",
    "\n",
    "os.path.isdir(\"carpeta_nueva\")"
   ]
  },
  {
   "cell_type": "code",
   "execution_count": 21,
   "metadata": {},
   "outputs": [
    {
     "data": {
      "text/plain": [
       "'/Users/linamaria/Documents/Aprendizaje/Henry/Python-Prep/M10_manejodearchivos'"
      ]
     },
     "execution_count": 21,
     "metadata": {},
     "output_type": "execute_result"
    }
   ],
   "source": [
    "#cambiar de carpeta. Primero verifico en cual estopy trabajando asi:\n",
    "import os\n",
    "\n",
    "os.getcwd()"
   ]
  },
  {
   "cell_type": "code",
   "execution_count": 22,
   "metadata": {},
   "outputs": [],
   "source": [
    "#cambio de carpeta\n",
    "\n",
    "import os\n",
    "os.chdir(\"carpeta_nueva\")"
   ]
  },
  {
   "cell_type": "code",
   "execution_count": 23,
   "metadata": {},
   "outputs": [
    {
     "data": {
      "text/plain": [
       "'/Users/linamaria/Documents/Aprendizaje/Henry/Python-Prep/M10_manejodearchivos/carpeta_nueva'"
      ]
     },
     "execution_count": 23,
     "metadata": {},
     "output_type": "execute_result"
    }
   ],
   "source": [
    "os.getcwd()"
   ]
  },
  {
   "cell_type": "code",
   "execution_count": 24,
   "metadata": {},
   "outputs": [],
   "source": [
    "#Manejo de archivos y web scrapping\n",
    "\n",
    "import os\n",
    "\n",
    "\n",
    "ingredientes = [\"Cebolla\",\"Tomate\", \"Aceite\"]"
   ]
  },
  {
   "cell_type": "code",
   "execution_count": 26,
   "metadata": {},
   "outputs": [],
   "source": [
    "#uso de w , write para escribir en ese archivo\n",
    "archivo = open('datos.txt','w')\n",
    "\n",
    "\n",
    "for elemento in ingredientes:\n",
    "    archivo.write(elemento+'\\n')\n",
    "\n",
    "#debe siempre cerrarse la tarea que sea con close\n",
    "archivo.close()"
   ]
  },
  {
   "cell_type": "code",
   "execution_count": 27,
   "metadata": {},
   "outputs": [
    {
     "name": "stdout",
     "output_type": "stream",
     "text": [
      "Cebolla\n",
      "\n",
      "Tomate\n",
      "\n",
      "Aceite\n",
      "\n"
     ]
    }
   ],
   "source": [
    "#para solo leer:\n",
    "\n",
    "import os\n",
    "\n",
    "archivo = open('datos.txt','r')\n",
    "\n",
    "for linea in archivo:\n",
    "    print(linea)\n",
    "\n",
    "archivo.close()"
   ]
  }
 ],
 "metadata": {
  "kernelspec": {
   "display_name": "Python 3",
   "language": "python",
   "name": "python3"
  },
  "language_info": {
   "codemirror_mode": {
    "name": "ipython",
    "version": 3
   },
   "file_extension": ".py",
   "mimetype": "text/x-python",
   "name": "python",
   "nbconvert_exporter": "python",
   "pygments_lexer": "ipython3",
   "version": "3.11.4"
  },
  "orig_nbformat": 4
 },
 "nbformat": 4,
 "nbformat_minor": 2
}
