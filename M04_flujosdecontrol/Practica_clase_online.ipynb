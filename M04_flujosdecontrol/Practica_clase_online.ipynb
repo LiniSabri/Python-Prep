{
 "cells": [
  {
   "cell_type": "code",
   "execution_count": 1,
   "metadata": {},
   "outputs": [
    {
     "name": "stdout",
     "output_type": "stream",
     "text": [
      "a es menor a b\n"
     ]
    }
   ],
   "source": [
    "a = 5\n",
    "b = 7\n",
    "\n",
    "if a < b:\n",
    "    print(\"a es menor a b\")\n",
    "elif a > b:\n",
    "    print(\"a es mayor que b\")\n",
    "else:\n",
    "    print(\"a es igual b\")"
   ]
  },
  {
   "cell_type": "code",
   "execution_count": 3,
   "metadata": {},
   "outputs": [
    {
     "name": "stdout",
     "output_type": "stream",
     "text": [
      " el numero es  1\n",
      "2\n",
      " el numero es  2\n",
      "3\n",
      " el numero es  3\n",
      "4\n",
      " el numero es  4\n",
      "5\n",
      " el numero es  5\n",
      "6\n"
     ]
    }
   ],
   "source": [
    "numeros = [1,2,3,4,5]\n",
    "for n in numeros:\n",
    "    print(\" el numero es \", n)\n",
    "    suma = n + 1\n",
    "    print(suma)"
   ]
  },
  {
   "cell_type": "code",
   "execution_count": 13,
   "metadata": {},
   "outputs": [
    {
     "name": "stdout",
     "output_type": "stream",
     "text": [
      "numero  6\n"
     ]
    }
   ],
   "source": [
    "n = 5\n",
    "while n < 6:\n",
    "    \n",
    "    n = n + 1\n",
    "    print(\"numero \", n)\n"
   ]
  },
  {
   "cell_type": "code",
   "execution_count": 18,
   "metadata": {},
   "outputs": [
    {
     "name": "stdout",
     "output_type": "stream",
     "text": [
      "L\n",
      "i\n",
      "Encontré la n, no la imprimo\n"
     ]
    }
   ],
   "source": [
    "palabra = \"Lina\"\n",
    "for letra in palabra:\n",
    "    if letra == \"n\":\n",
    "        print(\"Encontré la n, no la imprimo\")\n",
    "        break\n",
    "    print(letra)"
   ]
  },
  {
   "cell_type": "code",
   "execution_count": 19,
   "metadata": {},
   "outputs": [
    {
     "name": "stdout",
     "output_type": "stream",
     "text": [
      "L\n",
      "i\n",
      "Encontré la n, no la imprimo\n",
      "a\n"
     ]
    }
   ],
   "source": [
    "palabra = \"Lina\"\n",
    "for letra in palabra:\n",
    "    if letra == \"n\":\n",
    "        print(\"Encontré la n, no la imprimo\")\n",
    "        continue\n",
    "    print(letra)"
   ]
  },
  {
   "cell_type": "code",
   "execution_count": 2,
   "metadata": {},
   "outputs": [
    {
     "name": "stdout",
     "output_type": "stream",
     "text": [
      "es mayor a cero\n"
     ]
    }
   ],
   "source": [
    "# práctica ejercicio 1 d ela Homework\n",
    "\n",
    "x = 20\n",
    "if x < 0:\n",
    "    print(\"es menor a cero\")\n",
    "elif x > 0:\n",
    "    print(\"es mayor a cero\")\n",
    "else:\n",
    "    print(\"soy igual a cero\")\n"
   ]
  },
  {
   "cell_type": "code",
   "execution_count": 1,
   "metadata": {},
   "outputs": [
    {
     "name": "stdout",
     "output_type": "stream",
     "text": [
      "las variables no son del mismo tipo\n"
     ]
    }
   ],
   "source": [
    "x = 455\n",
    "y = \"Lina\"\n",
    "\n",
    "if type(x) == type(y):\n",
    "    print(\"variables del mismo tipo\")\n",
    "else:\n",
    "    print(\"las variables no son del mismo tipo\")"
   ]
  },
  {
   "cell_type": "code",
   "execution_count": 4,
   "metadata": {},
   "outputs": [
    {
     "data": {
      "text/plain": [
       "1"
      ]
     },
     "execution_count": 4,
     "metadata": {},
     "output_type": "execute_result"
    }
   ],
   "source": [
    "3 % 2\n",
    "21 % 2\n"
   ]
  },
  {
   "cell_type": "code",
   "execution_count": 5,
   "metadata": {},
   "outputs": [
    {
     "name": "stdout",
     "output_type": "stream",
     "text": [
      "el numero 1 es impar\n",
      "el numero 2 es par\n",
      "el numero 3 es impar\n",
      "el numero 4 es par\n",
      "el numero 5 es impar\n",
      "el numero 6 es par\n",
      "el numero 7 es impar\n",
      "el numero 8 es par\n",
      "el numero 9 es impar\n",
      "el numero 10 es par\n",
      "el numero 11 es impar\n",
      "el numero 12 es par\n",
      "el numero 13 es impar\n",
      "el numero 14 es par\n",
      "el numero 15 es impar\n",
      "el numero 16 es par\n",
      "el numero 17 es impar\n",
      "el numero 18 es par\n",
      "el numero 19 es impar\n",
      "el numero 20 es par\n"
     ]
    }
   ],
   "source": [
    "for num in range(1,21):\n",
    "    if num % 2 == 0:\n",
    "        print(\"el numero\", str(num), \"es par\")\n",
    "    else:\n",
    "        print(\"el numero\", str(num), \"es impar\")"
   ]
  },
  {
   "cell_type": "markdown",
   "metadata": {},
   "source": []
  },
  {
   "cell_type": "code",
   "execution_count": 6,
   "metadata": {},
   "outputs": [
    {
     "name": "stdout",
     "output_type": "stream",
     "text": [
      "el numero 0 elevado a la 3 potencia es igual a 0\n",
      "el numero 1 elevado a la 3 potencia es igual a 1\n",
      "el numero 2 elevado a la 3 potencia es igual a 8\n",
      "el numero 3 elevado a la 3 potencia es igual a 27\n",
      "el numero 4 elevado a la 3 potencia es igual a 64\n",
      "el numero 5 elevado a la 3 potencia es igual a 125\n"
     ]
    }
   ],
   "source": [
    "for i in range (0,6):#ejercicio 4 - puedo quitarle el str y el resultado es el mismo\n",
    "    print(\"el numero\", str(i), \"elevado a la 3 potencia es igual a\", str(i**3))"
   ]
  },
  {
   "cell_type": "code",
   "execution_count": 8,
   "metadata": {},
   "outputs": [
    {
     "name": "stdout",
     "output_type": "stream",
     "text": [
      "El factorial es 720\n"
     ]
    }
   ],
   "source": [
    "#ejercicio 6. La f del print es para que entienda que entre corchetes es el valor de la variable factorial\n",
    "n = 6\n",
    "if type(n) == int:\n",
    "    if n > 0:\n",
    "        factorial = n\n",
    "        while n > 2:\n",
    "            n = n - 1 # 6 -1\n",
    "            factorial = factorial * n\n",
    "        print(f\"El factorial es {factorial}\")\n",
    "    else:\n",
    "        print(\"la variable no es > a cero\")\n",
    "else:\n",
    "    print(\"la variable no es un numero entero\")\n"
   ]
  },
  {
   "cell_type": "code",
   "execution_count": 10,
   "metadata": {},
   "outputs": [
    {
     "name": "stdout",
     "output_type": "stream",
     "text": [
      "ciclo while num:1\n",
      "ciclo for num:1\n",
      "ciclo while num:2\n",
      "ciclo for num:1\n",
      "ciclo for num:2\n",
      "ciclo while num:3\n",
      "ciclo for num:1\n",
      "ciclo for num:2\n",
      "ciclo for num:3\n",
      "ciclo while num:4\n",
      "ciclo for num:1\n",
      "ciclo for num:2\n",
      "ciclo for num:3\n",
      "ciclo for num:4\n"
     ]
    }
   ],
   "source": [
    "#ejercicio 7\n",
    "\n",
    "n = 1\n",
    "while n < 5:\n",
    "    print(\"ciclo while num:\" + str(n))\n",
    "    for i in range(1, n + 1):\n",
    "        print((\"ciclo for num:\" + str(i)))\n",
    "    n = n + 1"
   ]
  }
 ],
 "metadata": {
  "kernelspec": {
   "display_name": "Python 3",
   "language": "python",
   "name": "python3"
  },
  "language_info": {
   "codemirror_mode": {
    "name": "ipython",
    "version": 3
   },
   "file_extension": ".py",
   "mimetype": "text/x-python",
   "name": "python",
   "nbconvert_exporter": "python",
   "pygments_lexer": "ipython3",
   "version": "3.11.4"
  },
  "orig_nbformat": 4
 },
 "nbformat": 4,
 "nbformat_minor": 2
}
