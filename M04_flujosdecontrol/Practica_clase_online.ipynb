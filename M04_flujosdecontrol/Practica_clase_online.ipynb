{
 "cells": [
  {
   "cell_type": "code",
   "execution_count": 1,
   "metadata": {},
   "outputs": [
    {
     "name": "stdout",
     "output_type": "stream",
     "text": [
      "a es menor a b\n"
     ]
    }
   ],
   "source": [
    "a = 5\n",
    "b = 7\n",
    "\n",
    "if a < b:\n",
    "    print(\"a es menor a b\")\n",
    "elif a > b:\n",
    "    print(\"a es mayor que b\")\n",
    "else:\n",
    "    print(\"a es igual b\")"
   ]
  },
  {
   "cell_type": "code",
   "execution_count": 3,
   "metadata": {},
   "outputs": [
    {
     "name": "stdout",
     "output_type": "stream",
     "text": [
      " el numero es  1\n",
      "2\n",
      " el numero es  2\n",
      "3\n",
      " el numero es  3\n",
      "4\n",
      " el numero es  4\n",
      "5\n",
      " el numero es  5\n",
      "6\n"
     ]
    }
   ],
   "source": [
    "numeros = [1,2,3,4,5]\n",
    "for n in numeros:\n",
    "    print(\" el numero es \", n)\n",
    "    suma = n + 1\n",
    "    print(suma)"
   ]
  },
  {
   "cell_type": "code",
   "execution_count": 13,
   "metadata": {},
   "outputs": [
    {
     "name": "stdout",
     "output_type": "stream",
     "text": [
      "numero  6\n"
     ]
    }
   ],
   "source": [
    "n = 5\n",
    "while n < 6:\n",
    "    \n",
    "    n = n + 1\n",
    "    print(\"numero \", n)\n"
   ]
  },
  {
   "cell_type": "code",
   "execution_count": 18,
   "metadata": {},
   "outputs": [
    {
     "name": "stdout",
     "output_type": "stream",
     "text": [
      "L\n",
      "i\n",
      "Encontré la n, no la imprimo\n"
     ]
    }
   ],
   "source": [
    "palabra = \"Lina\"\n",
    "for letra in palabra:\n",
    "    if letra == \"n\":\n",
    "        print(\"Encontré la n, no la imprimo\")\n",
    "        break\n",
    "    print(letra)"
   ]
  },
  {
   "cell_type": "code",
   "execution_count": 19,
   "metadata": {},
   "outputs": [
    {
     "name": "stdout",
     "output_type": "stream",
     "text": [
      "L\n",
      "i\n",
      "Encontré la n, no la imprimo\n",
      "a\n"
     ]
    }
   ],
   "source": [
    "palabra = \"Lina\"\n",
    "for letra in palabra:\n",
    "    if letra == \"n\":\n",
    "        print(\"Encontré la n, no la imprimo\")\n",
    "        continue\n",
    "    print(letra)"
   ]
  }
 ],
 "metadata": {
  "kernelspec": {
   "display_name": "Python 3",
   "language": "python",
   "name": "python3"
  },
  "language_info": {
   "codemirror_mode": {
    "name": "ipython",
    "version": 3
   },
   "file_extension": ".py",
   "mimetype": "text/x-python",
   "name": "python",
   "nbconvert_exporter": "python",
   "pygments_lexer": "ipython3",
   "version": "3.11.4"
  },
  "orig_nbformat": 4
 },
 "nbformat": 4,
 "nbformat_minor": 2
}
