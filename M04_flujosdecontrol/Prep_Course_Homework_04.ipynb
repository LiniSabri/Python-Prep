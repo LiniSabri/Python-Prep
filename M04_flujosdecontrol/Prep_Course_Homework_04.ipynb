{
 "cells": [
  {
   "attachments": {},
   "cell_type": "markdown",
   "metadata": {},
   "source": [
    "## Flujos de Control"
   ]
  },
  {
   "attachments": {},
   "cell_type": "markdown",
   "metadata": {},
   "source": [
    "1) Crear una variable que contenga un elemento del conjunto de números enteros y luego imprimir por pantalla si es mayor o menor a cero"
   ]
  },
  {
   "cell_type": "code",
   "execution_count": 1,
   "metadata": {},
   "outputs": [
    {
     "name": "stdout",
     "output_type": "stream",
     "text": [
      "soy mayor que 0\n"
     ]
    }
   ],
   "source": [
    "num_ent= 8\n",
    "if num_ent > 0:\n",
    "    print(\"soy mayor que 0\")\n",
    "elif num_ent < 0:\n",
    "    print(\"soy menor que 0\")\n",
    "else:\n",
    "    print(\"soy igual a 0\")"
   ]
  },
  {
   "attachments": {},
   "cell_type": "markdown",
   "metadata": {},
   "source": [
    "2) Crear dos variables y un condicional que informe si son del mismo tipo de dato"
   ]
  },
  {
   "cell_type": "code",
   "execution_count": 4,
   "metadata": {},
   "outputs": [
    {
     "name": "stdout",
     "output_type": "stream",
     "text": [
      "somos de diferente tipo\n"
     ]
    }
   ],
   "source": [
    "name = \"Lina\"\n",
    "phone= 35354545\n",
    "if (type(name) == type(phone)):\n",
    "    print(\"somos iguales\")\n",
    "else:\n",
    "    print(\"somos de diferente tipo\")"
   ]
  },
  {
   "attachments": {},
   "cell_type": "markdown",
   "metadata": {},
   "source": [
    "3) Para los valores enteros del 1 al 20, imprimir por pantalla si es par o impar"
   ]
  },
  {
   "cell_type": "code",
   "execution_count": 5,
   "metadata": {},
   "outputs": [
    {
     "name": "stdout",
     "output_type": "stream",
     "text": [
      "1 es un número impar\n",
      "2 es un número par\n",
      "3 es un número impar\n",
      "4 es un número par\n",
      "5 es un número impar\n",
      "6 es un número par\n",
      "7 es un número impar\n",
      "8 es un número par\n",
      "9 es un número impar\n",
      "10 es un número par\n",
      "11 es un número impar\n",
      "12 es un número par\n",
      "13 es un número impar\n",
      "14 es un número par\n",
      "15 es un número impar\n",
      "16 es un número par\n",
      "17 es un número impar\n",
      "18 es un número par\n",
      "19 es un número impar\n",
      "20 es un número par\n"
     ]
    }
   ],
   "source": [
    "#utilizamo un bucle for para iterar a través de los números enteros del 1 al 20 (incluyendo el 1 pero excluyendo el 21). Dentro del bucle, utilizo el operador de módulo (%) para verificar si el número es divisible por 2. Si el residuo de la división es igual a 0, entonces el número es par; de lo contrario, es impar. Luego imprimo un mensaje en función de esta verificación.\n",
    "\n",
    "for num in range(1, 21):\n",
    "    if num % 2 == 0:\n",
    "        print(num, \"es un número par\")\n",
    "    else:\n",
    "        print(num, \"es un número impar\")\n"
   ]
  },
  {
   "attachments": {},
   "cell_type": "markdown",
   "metadata": {},
   "source": [
    "4) En un ciclo for mostrar para los valores entre 0 y 5 el resultado de elevarlo a la potencia igual a 3"
   ]
  },
  {
   "cell_type": "code",
   "execution_count": 8,
   "metadata": {},
   "outputs": [
    {
     "name": "stdout",
     "output_type": "stream",
     "text": [
      "0 elevado a la 3 es igual a 0\n",
      "1 elevado a la 3 es igual a 1\n",
      "2 elevado a la 3 es igual a 8\n",
      "3 elevado a la 3 es igual a 27\n",
      "4 elevado a la 3 es igual a 64\n",
      "5 elevado a la 3 es igual a 125\n"
     ]
    }
   ],
   "source": [
    "#utilicé un bucle for para iterar a través de los valores del 0 al 5 (0, 1, 2, 3, 4, 5). En cada iteración, elevo el número al cubo utilizando el operador de exponente **, y luego imprimí el resultado junto con el número original. La f-string (cadena de formato) se utiliza para formatear la salida de manera legible.\n",
    "\n",
    "for num in range (0,6):\n",
    "    resultado = num ** 3\n",
    "    print(f\"{num} elevado a la 3 es igual a\", resultado)\n"
   ]
  },
  {
   "cell_type": "code",
   "execution_count": 9,
   "metadata": {},
   "outputs": [
    {
     "name": "stdout",
     "output_type": "stream",
     "text": [
      "0 elevado a la 3 es igual a 0\n",
      "1 elevado a la 3 es igual a 1\n",
      "2 elevado a la 3 es igual a 8\n",
      "3 elevado a la 3 es igual a 27\n",
      "4 elevado a la 3 es igual a 64\n",
      "5 elevado a la 3 es igual a 125\n"
     ]
    }
   ],
   "source": [
    "# No utilicé el f-string e imprimió lo mismo :)\n",
    "for num in range (0,6):\n",
    "    resultado = num ** 3\n",
    "    print(num, \"elevado a la 3 es igual a\", resultado)"
   ]
  },
  {
   "attachments": {},
   "cell_type": "markdown",
   "metadata": {},
   "source": [
    "5) Crear una variable que contenga un número entero y realizar un ciclo for la misma cantidad de ciclos"
   ]
  },
  {
   "cell_type": "code",
   "execution_count": 10,
   "metadata": {},
   "outputs": [
    {
     "name": "stdout",
     "output_type": "stream",
     "text": [
      "0\n",
      "1\n",
      "2\n",
      "3\n",
      "4\n",
      "5\n",
      "6\n",
      "7\n",
      "8\n",
      "9\n",
      "10\n",
      "11\n"
     ]
    }
   ],
   "source": [
    "n = 12\n",
    "for i in range(0, n):\n",
    "    print(i)\n"
   ]
  },
  {
   "attachments": {},
   "cell_type": "markdown",
   "metadata": {},
   "source": [
    "6) Utilizar un ciclo while para realizar el factorial de un número guardado en una variable, sólo si la variable contiene un número entero mayor a 0"
   ]
  },
  {
   "cell_type": "code",
   "execution_count": 11,
   "metadata": {},
   "outputs": [
    {
     "name": "stdout",
     "output_type": "stream",
     "text": [
      "El factorial de 5 es: 120\n"
     ]
    }
   ],
   "source": [
    "numero = 5 \n",
    "\n",
    "# Verifico si el número es un entero mayor a 0, utilizando isinstance(objeto,tipo) para verificar si un objeto pertenece a una determinada clase o tipo de datos: objeto es el onjeto que voy a verificar y tipo es el tipo o vlase con el que voy a comoarar el objeto\n",
    "if isinstance(numero, int) and numero > 0:\n",
    "    factorial = 1\n",
    "    #El cálculo del factorial implica multiplicar todos los números enteros positivos desde 1 hasta el número en cuestión. Inicializo factorial con 1 porque estoy tratando de calcular el producto de estos números. Si empiezo en 0 me dará 0.\n",
    "    while numero > 0:\n",
    "        factorial *= numero\n",
    "        numero -= 1\n",
    "        #disminuir numero en 1 en cada iteración del bucle es crucial para avanzar a través de los números enteros positivos necesarios para calcular el factorial correctamente.Van disminuyendo para llegar al cálculo final\n",
    "    print(\"El factorial de 5 es:\", factorial)\n",
    "else:\n",
    "    print(\"El número no cumple los requisitos.\")\n"
   ]
  },
  {
   "attachments": {},
   "cell_type": "markdown",
   "metadata": {},
   "source": [
    "7) Crear un ciclo for dentro de un ciclo while"
   ]
  },
  {
   "cell_type": "code",
   "execution_count": 14,
   "metadata": {},
   "outputs": [
    {
     "name": "stdout",
     "output_type": "stream",
     "text": [
      "1\n",
      "2\n",
      "3\n",
      "4\n",
      "5\n",
      "6\n",
      "7\n",
      "8\n",
      "9\n",
      "10\n",
      "11\n",
      "12\n",
      "13\n",
      "14\n",
      "15\n",
      "16\n",
      "17\n",
      "18\n",
      "19\n",
      "15\n",
      "16\n",
      "17\n",
      "18\n",
      "19\n"
     ]
    }
   ],
   "source": [
    "num = [1, 15]\n",
    "indice = 0  # Creo una variable para mantener el índice de la lista\n",
    "\n",
    "# Uso un bucle while para iterar a través de la lista num\n",
    "while indice < len(num):\n",
    "    #Uso un bucle while para iterar a través de la lista num mientras el índice sea menor que la longitud de la lista. Esto asegura que recorra todos los elementos de la lista.\n",
    "    elemento = num[indice]  # Obtenemos el elemento en el índice actual\n",
    "    for i in range(elemento, 20):\n",
    "        print(i)\n",
    "    indice += 1  # Incrementamos el índice para avanzar en la lista\n"
   ]
  },
  {
   "attachments": {},
   "cell_type": "markdown",
   "metadata": {},
   "source": [
    "8) Crear un ciclo while dentro de un ciclo for"
   ]
  },
  {
   "cell_type": "code",
   "execution_count": 15,
   "metadata": {},
   "outputs": [
    {
     "name": "stdout",
     "output_type": "stream",
     "text": [
      "1\n",
      "2\n",
      "3\n",
      "4\n",
      "5\n",
      "6\n",
      "7\n",
      "8\n",
      "9\n",
      "10\n",
      "11\n",
      "12\n",
      "13\n",
      "14\n",
      "15\n",
      "16\n",
      "17\n",
      "18\n",
      "19\n",
      "15\n",
      "16\n",
      "17\n",
      "18\n",
      "19\n"
     ]
    }
   ],
   "source": [
    "num = [1, 15]\n",
    "\n",
    "# Uso un bucle for para iterar a través de la lista num\n",
    "for elemento in num:\n",
    "    i = elemento  # Inicializo i con el valor del elemento actual de la lista\n",
    "    while i < 20:\n",
    "        print(i)\n",
    "        i += 1  # Incrementamos i en cada iteración del bucle while\n",
    "\n"
   ]
  },
  {
   "attachments": {},
   "cell_type": "markdown",
   "metadata": {},
   "source": [
    "9) Imprimir los números primos existentes entre 0 y 30"
   ]
  },
  {
   "cell_type": "code",
   "execution_count": 16,
   "metadata": {},
   "outputs": [
    {
     "name": "stdout",
     "output_type": "stream",
     "text": [
      "2 es primo\n",
      "3 es primo\n",
      "5 es primo\n",
      "7 es primo\n",
      "11 es primo\n",
      "13 es primo\n",
      "17 es primo\n",
      "19 es primo\n",
      "23 es primo\n",
      "29 es primo\n"
     ]
    }
   ],
   "source": [
    "#La función es_primo toma un número como argumento y devuelve True si el número es primo y False si no lo es.\n",
    "def es_primo(numero):\n",
    "    if numero <= 1:\n",
    "        return False\n",
    "    if numero <= 3:\n",
    "        return True\n",
    "    if numero % 2 == 0 or numero % 3 == 0:\n",
    "        return False\n",
    "    i = 5\n",
    "    while i * i <= numero:\n",
    "        #Utilizo un bucle while para iterar a través de los números i de la forma 6k ± 1 hasta que el cuadrado de i sea mayor que el número que estoy evaluando\n",
    "        if numero % i == 0 or numero % (i + 2) == 0:\n",
    "            return False\n",
    "        i += 6\n",
    "    return True\n",
    "for num in range(31):\n",
    "    #Utilizo un bucle for para iterar a través de los números del 0 al 30\n",
    "    if es_primo(num):\n",
    "        print(num, \"es primo\")\n"
   ]
  },
  {
   "attachments": {},
   "cell_type": "markdown",
   "metadata": {},
   "source": [
    "10) ¿Se puede mejorar el proceso del punto 9? Utilizar las sentencias break y/ó continue para tal fin"
   ]
  },
  {
   "cell_type": "code",
   "execution_count": 28,
   "metadata": {},
   "outputs": [
    {
     "name": "stdout",
     "output_type": "stream",
     "text": [
      "2 es primo\n",
      "3 es primo\n",
      "5 es primo\n",
      "7 es primo\n",
      "11 es primo\n",
      "13 es primo\n",
      "17 es primo\n",
      "19 es primo\n",
      "23 es primo\n",
      "29 es primo\n"
     ]
    }
   ],
   "source": [
    "def es_primo(numero):\n",
    "    if numero <= 1:\n",
    "        return False\n",
    "    if numero <= 3:\n",
    "        return True\n",
    "    if numero % 2 == 0 or numero % 3 == 0:\n",
    "        return False\n",
    "    i = 5\n",
    "    while i * i <= numero:\n",
    "        if numero % i == 0 or numero % (i + 2) == 0:\n",
    "            return False\n",
    "        i += 6\n",
    "    return True\n",
    "#Cuando num es menor o igual a 3, puedo imprimir el número directamente si es primo según mi función es_primo, y luego usar continue para saltar al siguiente número. Si num es divisible por 2 o 3, puedo usar continue para saltar al siguiente número, ya que no puede ser primo.\n",
    "#Dentro del bucle while, utilizo un break para salir del bucle si encuentra un divisor, lo que significa que el número no es primo. Si el bucle while completa todas las iteraciones sin encontrar un divisor, utilizo la cláusula else del bucle para imprimir que el número es primo.\n",
    "for num in range(31):\n",
    "    if num <= 3:\n",
    "        if es_primo(num):\n",
    "            print(num, \"es primo\")\n",
    "        continue\n",
    "\n",
    "    if num % 2 == 0 or num % 3 == 0:\n",
    "        continue\n",
    "\n",
    "    i = 5\n",
    "    while i * i <= num:\n",
    "        if num % i == 0 or num % (i + 2) == 0:\n",
    "            break\n",
    "        i += 6\n",
    "    else:\n",
    "        print(num, \"es primo\")\n"
   ]
  },
  {
   "attachments": {},
   "cell_type": "markdown",
   "metadata": {},
   "source": [
    "11) En los puntos 9 y 10, se diseño un código que encuentra números primos y además se lo optimizó. ¿Es posible saber en qué medida se optimizó?"
   ]
  },
  {
   "cell_type": "code",
   "execution_count": null,
   "metadata": {},
   "outputs": [],
   "source": []
  },
  {
   "attachments": {},
   "cell_type": "markdown",
   "metadata": {},
   "source": [
    "12) Aplicando continue, armar un ciclo while que solo imprima los valores divisibles por 12, dentro del rango de números de 100 a 300"
   ]
  },
  {
   "cell_type": "code",
   "execution_count": 30,
   "metadata": {},
   "outputs": [
    {
     "name": "stdout",
     "output_type": "stream",
     "text": [
      "108 es divisible por 12\n",
      "120 es divisible por 12\n",
      "132 es divisible por 12\n",
      "144 es divisible por 12\n",
      "156 es divisible por 12\n",
      "168 es divisible por 12\n",
      "180 es divisible por 12\n",
      "192 es divisible por 12\n",
      "204 es divisible por 12\n",
      "216 es divisible por 12\n",
      "228 es divisible por 12\n",
      "240 es divisible por 12\n",
      "252 es divisible por 12\n",
      "264 es divisible por 12\n",
      "276 es divisible por 12\n",
      "288 es divisible por 12\n",
      "300 es divisible por 12\n"
     ]
    }
   ],
   "source": [
    "num = 100\n",
    "\n",
    "while num <= 300:\n",
    "    if num % 12 != 0:\n",
    "        num += 1\n",
    "        continue\n",
    "    print(num, \"es divisible por 12\")\n",
    "    num += 1\n"
   ]
  },
  {
   "attachments": {},
   "cell_type": "markdown",
   "metadata": {},
   "source": [
    "13) Utilizar la función **input()** que permite hacer ingresos por teclado, para encontrar números primos y dar la opción al usario de buscar el siguiente"
   ]
  },
  {
   "attachments": {},
   "cell_type": "markdown",
   "metadata": {},
   "source": [
    "14) Crear un ciclo while que encuentre dentro del rango de 100 a 300 el primer número divisible por 3 y además múltiplo de 6"
   ]
  },
  {
   "cell_type": "code",
   "execution_count": 1,
   "metadata": {},
   "outputs": [
    {
     "name": "stdout",
     "output_type": "stream",
     "text": [
      "El primer número divisible por 3 y múltiplo de 6 es: 102\n"
     ]
    }
   ],
   "source": [
    "numero = 100\n",
    "\n",
    "while numero <= 300:\n",
    "    if numero % 3 == 0 and numero % 6 == 0:\n",
    "        print(\"El primer número divisible por 3 y múltiplo de 6 es:\", numero)\n",
    "        break\n",
    "    numero += 1\n"
   ]
  }
 ],
 "metadata": {
  "interpreter": {
   "hash": "c85384e4cb51c8b72350f3a8712cc8351fdc3955e32a27f9b60c6242ab125f01"
  },
  "kernelspec": {
   "display_name": "Python 3 (ipykernel)",
   "language": "python",
   "name": "python3"
  },
  "language_info": {
   "codemirror_mode": {
    "name": "ipython",
    "version": 3
   },
   "file_extension": ".py",
   "mimetype": "text/x-python",
   "name": "python",
   "nbconvert_exporter": "python",
   "pygments_lexer": "ipython3",
   "version": "3.11.4"
  }
 },
 "nbformat": 4,
 "nbformat_minor": 4
}
