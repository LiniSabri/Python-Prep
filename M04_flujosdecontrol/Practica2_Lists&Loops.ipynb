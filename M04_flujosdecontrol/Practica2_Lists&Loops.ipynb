{
 "cells": [
  {
   "cell_type": "code",
   "execution_count": 2,
   "metadata": {},
   "outputs": [
    {
     "name": "stdout",
     "output_type": "stream",
     "text": [
      "1\n"
     ]
    }
   ],
   "source": [
    "suma = 0\n",
    "suma = suma + 1\n",
    "print(suma)"
   ]
  },
  {
   "cell_type": "code",
   "execution_count": 3,
   "metadata": {},
   "outputs": [
    {
     "name": "stdout",
     "output_type": "stream",
     "text": [
      "3\n"
     ]
    }
   ],
   "source": [
    "suma = 0\n",
    "suma = suma + 1\n",
    "suma = suma + 2 #el suma de la variable es ahora 1 porque es el resultado del 2 suma 0+ es 1\n",
    "print(suma)"
   ]
  },
  {
   "cell_type": "code",
   "execution_count": 4,
   "metadata": {},
   "outputs": [
    {
     "name": "stdout",
     "output_type": "stream",
     "text": [
      "2\n",
      "3\n",
      "4\n",
      "5\n",
      "6\n"
     ]
    }
   ],
   "source": [
    "for i in range (1,6):\n",
    "    suma=i + 1\n",
    "    print(suma)"
   ]
  },
  {
   "cell_type": "code",
   "execution_count": 5,
   "metadata": {},
   "outputs": [
    {
     "name": "stdout",
     "output_type": "stream",
     "text": [
      "variable de iteración: 1 resultado= 2\n",
      "variable de iteración: 2 resultado= 3\n",
      "variable de iteración: 3 resultado= 4\n",
      "variable de iteración: 4 resultado= 5\n",
      "variable de iteración: 5 resultado= 6\n"
     ]
    }
   ],
   "source": [
    "for i in range (1,6):\n",
    "    suma=i + 1\n",
    "    print(\"variable de iteración:\", i, \"resultado=\",suma)"
   ]
  },
  {
   "cell_type": "code",
   "execution_count": 6,
   "metadata": {},
   "outputs": [
    {
     "name": "stdout",
     "output_type": "stream",
     "text": [
      "num 2\n",
      "num 3\n",
      "num 4\n",
      "num 5\n",
      "num 6\n"
     ]
    }
   ],
   "source": [
    "num = 1 #La principal diferencia entre los dos códigos es el momento en que se imprime el valor de num. En el primer código, se imprime después de incrementar el valor, mientras que en el segundo código, se imprime antes de incrementar el valor. Sin embargo, el resultado final y la cantidad de iteraciones siguen siendo los mismos en ambos códigos.\n",
    "while num<6:\n",
    "    num=num+1\n",
    "    print(\"num\", num)"
   ]
  },
  {
   "cell_type": "code",
   "execution_count": 7,
   "metadata": {},
   "outputs": [
    {
     "name": "stdout",
     "output_type": "stream",
     "text": [
      "num 1\n",
      "num 2\n",
      "num 3\n",
      "num 4\n",
      "num 5\n"
     ]
    }
   ],
   "source": [
    "num = 1 #La principal diferencia entre los dos códigos es el momento en que se imprime el valor de num. En el primer código, se imprime después de incrementar el valor, mientras que en el segundo código, se imprime antes de incrementar el valor. Sin embargo, el resultado final y la cantidad de iteraciones siguen siendo los mismos en ambos códigos.\n",
    "while num<6:\n",
    "    print(\"num\", num)\n",
    "    num=num+1"
   ]
  }
 ],
 "metadata": {
  "kernelspec": {
   "display_name": "Python 3",
   "language": "python",
   "name": "python3"
  },
  "language_info": {
   "codemirror_mode": {
    "name": "ipython",
    "version": 3
   },
   "file_extension": ".py",
   "mimetype": "text/x-python",
   "name": "python",
   "nbconvert_exporter": "python",
   "pygments_lexer": "ipython3",
   "version": "3.11.4"
  },
  "orig_nbformat": 4
 },
 "nbformat": 4,
 "nbformat_minor": 2
}
