{
 "cells": [
  {
   "attachments": {},
   "cell_type": "markdown",
   "metadata": {},
   "source": [
    "## Clases y Programación Orientada a Objetos"
   ]
  },
  {
   "attachments": {},
   "cell_type": "markdown",
   "metadata": {},
   "source": [
    "1) Crear la clase vehículo que contenga los atributos:<br>\n",
    "Color<br>\n",
    "Si es moto, auto, camioneta ó camión<br>\n",
    "Cilindrada del motor"
   ]
  },
  {
   "cell_type": "code",
   "execution_count": 1,
   "metadata": {},
   "outputs": [],
   "source": [
    "class Vehículo:\n",
    "    def __init__(self, color,clase,cilindraje):\n",
    "        self.color = color\n",
    "        self.clase = clase\n",
    "        self.cilindraje = cilindraje"
   ]
  },
  {
   "attachments": {},
   "cell_type": "markdown",
   "metadata": {},
   "source": [
    "2) A la clase Vehiculo creada en el punto 1, agregar los siguientes métodos:<br>\n",
    "Acelerar<br>\n",
    "Frenar<br>\n",
    "Doblar<br>"
   ]
  },
  {
   "cell_type": "code",
   "execution_count": 35,
   "metadata": {},
   "outputs": [],
   "source": [
    "class Vehículo:\n",
    "    def __init__(self, color,clase,cilindraje):\n",
    "        self.color = color\n",
    "        self.clase = clase\n",
    "        self.cilindraje = cilindraje\n",
    "        self.velocidad = 0  # Agrego un atributo para la velocidad inicial\n",
    "        self.direccion = 0\n",
    "\n",
    "    def Acelerar(self, incremento):\n",
    "        # Incrementa la velocidad del vehículo\n",
    "        self.velocidad += incremento\n",
    "\n",
    "    def Frenar(self, desaceleración):\n",
    "        # Reduce la velocidad del vehículo\n",
    "        self.velocidad -= desaceleración\n",
    "\n",
    "    def Doblar(self, grados):\n",
    "        # Realiza una acción relacionada con el giro o dirección\n",
    "        self.direccion += grados"
   ]
  },
  {
   "attachments": {},
   "cell_type": "markdown",
   "metadata": {},
   "source": [
    "3) Instanciar 3 objetos de la clase vehículo y ejecutar sus métodos, probar luego el resultado"
   ]
  },
  {
   "cell_type": "code",
   "execution_count": 36,
   "metadata": {},
   "outputs": [],
   "source": [
    "class Vehículo:\n",
    "    def __init__(self, color,clase,cilindraje):\n",
    "        self.color = color\n",
    "        self.clase = clase\n",
    "        self.cilindraje = cilindraje\n",
    "        self.velocidad = 0  \n",
    "        self.dirección = 0\n",
    "\n",
    "    def Acelerar(self, incremento):\n",
    "        # Incrementa la velocidad del vehículo\n",
    "        self.velocidad += incremento\n",
    "\n",
    "    def Frenar(self, desaceleración):\n",
    "        # Reduce la velocidad del vehículo\n",
    "        self.velocidad -= desaceleración\n",
    "\n",
    "    def Doblar(self, grados):\n",
    "        # Realiza una acción relacionada con el giro o dirección\n",
    "        self.direccion += grados\n",
    "\n",
    "\n",
    "        v1 = Vehículo (\"turquesa\", \"auto\", 1600)\n",
    "        v2 = Vehículo (\"blanco\", \"camioneta\", 3600)\n",
    "        v3 = Vehículo (\"rojo\", \"moto\", 3000)\n",
    "\n",
    "\n",
    "        v3.Doblar(\"derecha\")\n",
    "        v1.Acelerar(60)\n",
    "        v2.Frenar(-15)\n",
    "\n"
   ]
  },
  {
   "attachments": {},
   "cell_type": "markdown",
   "metadata": {},
   "source": [
    "4) Agregar a la clase Vehiculo, un método que muestre su estado, es decir, a que velocidad se encuentra y su dirección. Y otro método que muestre color, tipo y cilindrada"
   ]
  },
  {
   "cell_type": "code",
   "execution_count": 37,
   "metadata": {},
   "outputs": [],
   "source": [
    "class Vehículo:\n",
    "    def __init__(self, color,clase,cilindraje):\n",
    "        self.color = color\n",
    "        self.clase = clase\n",
    "        self.cilindraje = cilindraje\n",
    "        self.velocidad = 0 \n",
    "        self.dirección = 0\n",
    "\n",
    "    def Acelerar(self, incremento):\n",
    "        # Incrementa la velocidad del vehículo\n",
    "        self.velocidad += incremento\n",
    "\n",
    "    def Frenar(self, desaceleración):\n",
    "        # Reduce la velocidad del vehículo\n",
    "        self.velocidad -= desaceleración\n",
    "\n",
    "    def Doblar(self, grados):\n",
    "        # Realiza una acción relacionada con el giro o dirección\n",
    "        self.direccion += grados\n",
    "\n",
    "    def MostrarEstado(self):\n",
    "        print(\"Velocidad:\", self.velocidad, \"- Dirección:\", self.direccion)\n",
    "\n",
    "    def MostrarDetalles(self):\n",
    "        print(\"Soy\", self.clase, \"de color\", self.color, 'y mi cilindraje es de', self.cilindraje, \"caballos de fuerza\")"
   ]
  },
  {
   "cell_type": "code",
   "execution_count": 38,
   "metadata": {},
   "outputs": [
    {
     "name": "stdout",
     "output_type": "stream",
     "text": [
      "Soy camioneta de color blanco y mi cilindraje es de 3600 caballos de fuerza\n"
     ]
    }
   ],
   "source": [
    "v2 = Vehículo (\"blanco\", \"camioneta\", 3600)\n",
    "v2.MostrarDetalles()"
   ]
  },
  {
   "cell_type": "code",
   "execution_count": 39,
   "metadata": {},
   "outputs": [
    {
     "ename": "AttributeError",
     "evalue": "'Vehículo' object has no attribute 'direccion'",
     "output_type": "error",
     "traceback": [
      "\u001b[0;31m---------------------------------------------------------------------------\u001b[0m",
      "\u001b[0;31mAttributeError\u001b[0m                            Traceback (most recent call last)",
      "\u001b[1;32m/Users/linamaria/Documents/Aprendizaje/Henry/Python-Prep/M08_clasesyOOP/Prep_Course_Homework_08.ipynb Cell 11\u001b[0m line \u001b[0;36m2\n\u001b[1;32m      <a href='vscode-notebook-cell:/Users/linamaria/Documents/Aprendizaje/Henry/Python-Prep/M08_clasesyOOP/Prep_Course_Homework_08.ipynb#X26sZmlsZQ%3D%3D?line=0'>1</a>\u001b[0m v1 \u001b[39m=\u001b[39m Vehículo (\u001b[39m\"\u001b[39m\u001b[39mturquesa\u001b[39m\u001b[39m\"\u001b[39m, \u001b[39m\"\u001b[39m\u001b[39mauto\u001b[39m\u001b[39m\"\u001b[39m, \u001b[39m1600\u001b[39m)\n\u001b[0;32m----> <a href='vscode-notebook-cell:/Users/linamaria/Documents/Aprendizaje/Henry/Python-Prep/M08_clasesyOOP/Prep_Course_Homework_08.ipynb#X26sZmlsZQ%3D%3D?line=1'>2</a>\u001b[0m v1\u001b[39m.\u001b[39;49mMostrarEstado()\n",
      "\u001b[1;32m/Users/linamaria/Documents/Aprendizaje/Henry/Python-Prep/M08_clasesyOOP/Prep_Course_Homework_08.ipynb Cell 11\u001b[0m line \u001b[0;36m2\n\u001b[1;32m     <a href='vscode-notebook-cell:/Users/linamaria/Documents/Aprendizaje/Henry/Python-Prep/M08_clasesyOOP/Prep_Course_Homework_08.ipynb#X26sZmlsZQ%3D%3D?line=20'>21</a>\u001b[0m \u001b[39mdef\u001b[39;00m \u001b[39mMostrarEstado\u001b[39m(\u001b[39mself\u001b[39m):\n\u001b[0;32m---> <a href='vscode-notebook-cell:/Users/linamaria/Documents/Aprendizaje/Henry/Python-Prep/M08_clasesyOOP/Prep_Course_Homework_08.ipynb#X26sZmlsZQ%3D%3D?line=21'>22</a>\u001b[0m     \u001b[39mprint\u001b[39m(\u001b[39m\"\u001b[39m\u001b[39mVelocidad:\u001b[39m\u001b[39m\"\u001b[39m, \u001b[39mself\u001b[39m\u001b[39m.\u001b[39mvelocidad, \u001b[39m\"\u001b[39m\u001b[39m- Dirección:\u001b[39m\u001b[39m\"\u001b[39m, \u001b[39mself\u001b[39;49m\u001b[39m.\u001b[39;49mdireccion)\n",
      "\u001b[0;31mAttributeError\u001b[0m: 'Vehículo' object has no attribute 'direccion'"
     ]
    }
   ],
   "source": [
    "#no entiendo el error\n",
    "v1 = Vehículo (\"turquesa\", \"auto\", 1600)\n",
    "v1.MostrarEstado()"
   ]
  },
  {
   "cell_type": "code",
   "execution_count": 40,
   "metadata": {},
   "outputs": [
    {
     "ename": "AttributeError",
     "evalue": "'Vehículo' object has no attribute 'direccion'",
     "output_type": "error",
     "traceback": [
      "\u001b[0;31m---------------------------------------------------------------------------\u001b[0m",
      "\u001b[0;31mAttributeError\u001b[0m                            Traceback (most recent call last)",
      "\u001b[1;32m/Users/linamaria/Documents/Aprendizaje/Henry/Python-Prep/M08_clasesyOOP/Prep_Course_Homework_08.ipynb Cell 12\u001b[0m line \u001b[0;36m2\n\u001b[1;32m      <a href='vscode-notebook-cell:/Users/linamaria/Documents/Aprendizaje/Henry/Python-Prep/M08_clasesyOOP/Prep_Course_Homework_08.ipynb#X30sZmlsZQ%3D%3D?line=0'>1</a>\u001b[0m \u001b[39m#no entiendo por que no imprime los datos :()\u001b[39;00m\n\u001b[0;32m----> <a href='vscode-notebook-cell:/Users/linamaria/Documents/Aprendizaje/Henry/Python-Prep/M08_clasesyOOP/Prep_Course_Homework_08.ipynb#X30sZmlsZQ%3D%3D?line=1'>2</a>\u001b[0m v1\u001b[39m.\u001b[39;49mMostrarEstado()\n\u001b[1;32m      <a href='vscode-notebook-cell:/Users/linamaria/Documents/Aprendizaje/Henry/Python-Prep/M08_clasesyOOP/Prep_Course_Homework_08.ipynb#X30sZmlsZQ%3D%3D?line=2'>3</a>\u001b[0m v1\u001b[39m.\u001b[39mAcelerar(\u001b[39m30\u001b[39m)\n\u001b[1;32m      <a href='vscode-notebook-cell:/Users/linamaria/Documents/Aprendizaje/Henry/Python-Prep/M08_clasesyOOP/Prep_Course_Homework_08.ipynb#X30sZmlsZQ%3D%3D?line=3'>4</a>\u001b[0m v1\u001b[39m.\u001b[39mMostrarEstado()\n",
      "\u001b[1;32m/Users/linamaria/Documents/Aprendizaje/Henry/Python-Prep/M08_clasesyOOP/Prep_Course_Homework_08.ipynb Cell 12\u001b[0m line \u001b[0;36m2\n\u001b[1;32m     <a href='vscode-notebook-cell:/Users/linamaria/Documents/Aprendizaje/Henry/Python-Prep/M08_clasesyOOP/Prep_Course_Homework_08.ipynb#X30sZmlsZQ%3D%3D?line=20'>21</a>\u001b[0m \u001b[39mdef\u001b[39;00m \u001b[39mMostrarEstado\u001b[39m(\u001b[39mself\u001b[39m):\n\u001b[0;32m---> <a href='vscode-notebook-cell:/Users/linamaria/Documents/Aprendizaje/Henry/Python-Prep/M08_clasesyOOP/Prep_Course_Homework_08.ipynb#X30sZmlsZQ%3D%3D?line=21'>22</a>\u001b[0m     \u001b[39mprint\u001b[39m(\u001b[39m\"\u001b[39m\u001b[39mVelocidad:\u001b[39m\u001b[39m\"\u001b[39m, \u001b[39mself\u001b[39m\u001b[39m.\u001b[39mvelocidad, \u001b[39m\"\u001b[39m\u001b[39m- Dirección:\u001b[39m\u001b[39m\"\u001b[39m, \u001b[39mself\u001b[39;49m\u001b[39m.\u001b[39;49mdireccion)\n",
      "\u001b[0;31mAttributeError\u001b[0m: 'Vehículo' object has no attribute 'direccion'"
     ]
    }
   ],
   "source": [
    "#no entiendo por que no imprime los datos :()\n",
    "v1.MostrarEstado()\n",
    "v1.Acelerar(30)\n",
    "v1.MostrarEstado()"
   ]
  },
  {
   "attachments": {},
   "cell_type": "markdown",
   "metadata": {},
   "source": [
    "5) Crear una clase que permita utilizar las funciones creadas en la práctica del módulo 7<br>\n",
    "Verificar Primo<br>\n",
    "Valor modal<br>\n",
    "Conversión grados<br>\n",
    "Factorial<br>"
   ]
  },
  {
   "cell_type": "code",
   "execution_count": null,
   "metadata": {},
   "outputs": [],
   "source": []
  },
  {
   "attachments": {},
   "cell_type": "markdown",
   "metadata": {},
   "source": [
    "6) Probar las funciones incorporadas en la clase del punto 5"
   ]
  },
  {
   "cell_type": "code",
   "execution_count": null,
   "metadata": {},
   "outputs": [],
   "source": []
  },
  {
   "attachments": {},
   "cell_type": "markdown",
   "metadata": {},
   "source": [
    "7) Es necesario que la clase creada en el punto 5 contenga una lista, sobre la cual se apliquen las funciones incorporadas"
   ]
  },
  {
   "cell_type": "code",
   "execution_count": null,
   "metadata": {},
   "outputs": [],
   "source": []
  },
  {
   "attachments": {},
   "cell_type": "markdown",
   "metadata": {},
   "source": [
    "8) Crear un archivo .py aparte y ubicar allí la clase generada en el punto anterior. Luego realizar la importación del módulo y probar alguna de sus funciones"
   ]
  },
  {
   "cell_type": "code",
   "execution_count": null,
   "metadata": {},
   "outputs": [],
   "source": []
  }
 ],
 "metadata": {
  "interpreter": {
   "hash": "c85384e4cb51c8b72350f3a8712cc8351fdc3955e32a27f9b60c6242ab125f01"
  },
  "kernelspec": {
   "display_name": "Python 3 (ipykernel)",
   "language": "python",
   "name": "python3"
  },
  "language_info": {
   "codemirror_mode": {
    "name": "ipython",
    "version": 3
   },
   "file_extension": ".py",
   "mimetype": "text/x-python",
   "name": "python",
   "nbconvert_exporter": "python",
   "pygments_lexer": "ipython3",
   "version": "3.11.4"
  }
 },
 "nbformat": 4,
 "nbformat_minor": 4
}
