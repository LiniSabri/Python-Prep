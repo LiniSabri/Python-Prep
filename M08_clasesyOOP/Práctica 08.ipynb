{
 "cells": [
  {
   "cell_type": "code",
   "execution_count": 1,
   "metadata": {},
   "outputs": [],
   "source": [
    "class Gato:\n",
    "    def __init__(self, nombre, edad):\n",
    "     self.nombre = nombre\n",
    "     self.edad = edad\n",
    "\n",
    "gato1 = Gato (\"Pompon\", 2)"
   ]
  },
  {
   "cell_type": "code",
   "execution_count": 3,
   "metadata": {},
   "outputs": [
    {
     "name": "stdout",
     "output_type": "stream",
     "text": [
      "<__main__.Gato object at 0x1042bab10>\n"
     ]
    }
   ],
   "source": [
    "class Gato:\n",
    "    def __init__(self, nombre, edad, raza, sexo):\n",
    "     self.nombre = nombre\n",
    "     self.edad = edad\n",
    "     self.raza = raza\n",
    "     self.sexo = sexo\n",
    "\n",
    "gato1 = Gato (\"Pompon\", 2, \"siamés\", \"macho\")\n",
    "\n",
    "#no nos devuelve nada de la info, para ello hay que crear un método\n",
    "print (gato1)"
   ]
  },
  {
   "cell_type": "code",
   "execution_count": 14,
   "metadata": {},
   "outputs": [
    {
     "name": "stdout",
     "output_type": "stream",
     "text": [
      "nombre: Pompon edad: 2 raza: siamés sexo: siamés\n"
     ]
    }
   ],
   "source": [
    "#metodo para que devuelva los datos que queremos. el metodo se llamará presentar en este ejemplo\n",
    "\n",
    "class Gato:\n",
    "    def __init__(self, nombre, edad, raza, sexo):\n",
    "     self.nombre = nombre\n",
    "     self.edad = edad\n",
    "     self.raza = raza\n",
    "     self.sexo = sexo\n",
    "#La definición del método presentar debe estar dentro de la clase Gato\n",
    "    def presentar(self):\n",
    "       #el return es innecesario, el print lo muestra\n",
    "       return print(\"nombre:\", self.nombre, \"edad:\", self.edad, \"raza:\", self.raza, \"sexo:\", self.raza)\n",
    "\n",
    "gato1 = Gato (\"Pompon\", 2, \"siamés\", \"macho\")\n",
    "gato1.presentar()"
   ]
  },
  {
   "cell_type": "code",
   "execution_count": 15,
   "metadata": {},
   "outputs": [],
   "source": [
    "# Encapsulamiento. Pilar 2 de la POO\n",
    "\n",
    "class CuentaBancaria:\n",
    "    def __init__(self, saldo):\n",
    "        self. __saldo = saldo \n",
    "    \n",
    "    def depositar (self, monto):\n",
    "        self.__saldo += monto\n",
    "\n",
    "    def retirar (self, monto):\n",
    "        if self.__saldo >= monto:\n",
    "            self.__saldo -= monto\n",
    "        else:\n",
    "            print(\"saldo insuficiente\")\n",
    "\n",
    "    def obtener_saldo(self):\n",
    "        return self.__saldo"
   ]
  },
  {
   "cell_type": "code",
   "execution_count": 18,
   "metadata": {},
   "outputs": [
    {
     "name": "stdout",
     "output_type": "stream",
     "text": [
      "Nombre: Nina\n",
      "Edad: 3\n",
      "Raza: siamés\n",
      "Sexo: hembra\n"
     ]
    }
   ],
   "source": [
    "# Herencia. Pilar 3 del POO\n",
    "class Gato:\n",
    "    def __init__(self, nombre, edad, raza, sexo):\n",
    "     self.nombre = nombre\n",
    "     self.edad = edad\n",
    "     self.raza = raza\n",
    "     self.sexo = sexo\n",
    "\n",
    "    def presentar(self):\n",
    "        print(\"Nombre:\", self.nombre)\n",
    "        print(\"Edad:\", self.edad)\n",
    "        print(\"Raza:\", self.raza)\n",
    "        print(\"Sexo:\", self.sexo)\n",
    "\n",
    "gato2 = Gato(\"Nina\", 3, \"siamés\", \"hembra\")\n",
    "gato2.presentar()\n",
    "\n",
    "\n",
    "\n"
   ]
  },
  {
   "cell_type": "code",
   "execution_count": 20,
   "metadata": {},
   "outputs": [],
   "source": [
    "#Polimorfismo. ila 4 POO. se utiliza para crear métodos con el mismo nombre pero diferente comportamiento\n",
    "class Animal:\n",
    "    def __init__(self, especie, edad, color):\n",
    "        self.especie = especie\n",
    "        self.edad = edad\n",
    "        self.color = color\n",
    "\n",
    "    def mePresento (self):\n",
    "        print(\"Hola, soy\", self.especie, \"de color\", self.color, \"y tengo\", self.edad, \"años\")\n",
    "\n",
    "    def cumplirAños (self):\n",
    "        self.edad = self.edad + 1\n"
   ]
  },
  {
   "cell_type": "code",
   "execution_count": 22,
   "metadata": {},
   "outputs": [
    {
     "name": "stdout",
     "output_type": "stream",
     "text": [
      "ratón\n",
      "2\n",
      "liebre\n",
      "3\n"
     ]
    }
   ],
   "source": [
    "#Ahora se instancias dos objetos con atributos respectivos de especie, edad y color\n",
    "\n",
    "a1 = Animal (\"ratón\", 2, \"marrón\")\n",
    "a2 = Animal (\"liebre\", 3, \"gris\")\n",
    "\n",
    "print(a1.especie)\n",
    "print(a1.edad)\n",
    "print(a2.especie)\n",
    "print(a2.edad)"
   ]
  },
  {
   "cell_type": "code",
   "execution_count": 24,
   "metadata": {},
   "outputs": [
    {
     "name": "stdout",
     "output_type": "stream",
     "text": [
      "Hola, soy ratón de color marrón y tengo 2 años\n",
      "Hola, soy liebre de color gris y tengo 3 años\n"
     ]
    }
   ],
   "source": [
    "a1.mePresento()\n",
    "a2.mePresento()"
   ]
  },
  {
   "cell_type": "code",
   "execution_count": 37,
   "metadata": {},
   "outputs": [],
   "source": [
    "a1.cumplirAños()\n",
    "a2.cumplirAños()"
   ]
  },
  {
   "cell_type": "code",
   "execution_count": 39,
   "metadata": {},
   "outputs": [
    {
     "name": "stdout",
     "output_type": "stream",
     "text": [
      "Hola, soy ratón de color marrón y tengo 7 años\n",
      "Hola, soy liebre de color gris y tengo 7 años\n"
     ]
    }
   ],
   "source": [
    "#aqui deberia sumar solo un año pero creo que es porque ejecuté muchas veces el código\n",
    "a1.mePresento()\n",
    "a2.mePresento()"
   ]
  },
  {
   "cell_type": "code",
   "execution_count": 47,
   "metadata": {},
   "outputs": [],
   "source": [
    "class Animal:\n",
    "    def __init__(self, especie, edad):\n",
    "        self.especie = especie\n",
    "        self.edad = edad\n",
    "\n",
    "    #método genérico pero con implementación particular\n",
    "\n",
    "    def hablar (self):\n",
    "        #método vacío\n",
    "        pass\n",
    "\n",
    "    #método genérico pero con implementación particular\n",
    "    def moverse (self):\n",
    "         #método vacío\n",
    "        pass\n",
    "\n",
    "    #método genérico pero con la misma implementación\n",
    "\n",
    "    def defíneme (self):\n",
    "        print(\"soy un animal del tipo\", type(self).__name__)"
   ]
  },
  {
   "cell_type": "code",
   "execution_count": 48,
   "metadata": {},
   "outputs": [],
   "source": [
    "class Perro(Animal):\n",
    "    pass"
   ]
  },
  {
   "cell_type": "code",
   "execution_count": 49,
   "metadata": {},
   "outputs": [
    {
     "name": "stdout",
     "output_type": "stream",
     "text": [
      "soy un animal del tipo Perro\n"
     ]
    }
   ],
   "source": [
    "mi_perro = Perro(\"mamífero\", 10)\n",
    "mi_perro.defíneme()"
   ]
  },
  {
   "cell_type": "code",
   "execution_count": 50,
   "metadata": {},
   "outputs": [],
   "source": [
    "class Perro (Animal):\n",
    "    def hablar(self):\n",
    "        print (\"guau guau\")\n",
    "    \n",
    "    def moverse (self):\n",
    "        print (\"caminando con 4 patas\")\n",
    "\n",
    "\n",
    "class Vaca (Animal):\n",
    "    def hablar(self):\n",
    "        print (\"muuuuuu\")\n",
    "    \n",
    "    def moverse(self):\n",
    "        print (\"caminando con 4 patas\")\n",
    "\n",
    "class Abeja (Animal):\n",
    "    def hablar(self):\n",
    "        print (\"bzzzzzz\")\n",
    "\n",
    "    def moverse(self):\n",
    "        print (\"volando\")\n",
    "    \n",
    "    #agrego un  uevo método para esta subclase:\n",
    "\n",
    "    def picar (self):\n",
    "        print (\"picar!\")\n",
    "\n"
   ]
  },
  {
   "cell_type": "code",
   "execution_count": 51,
   "metadata": {},
   "outputs": [],
   "source": [
    "#instanciamos 3 objetos de las clases hijas:\n",
    "\n",
    "mi_perro = Perro (\"mamífero\", 10)\n",
    "mi_vaca = Vaca (\"mamídero\", 25)\n",
    "mi_abeja = Abeja (\"insecto\", 2)"
   ]
  },
  {
   "cell_type": "code",
   "execution_count": 52,
   "metadata": {},
   "outputs": [
    {
     "name": "stdout",
     "output_type": "stream",
     "text": [
      "muuuuuu\n"
     ]
    }
   ],
   "source": [
    "#llamamos a uno de los métodos, que fue modificado de la clase Animal genérica\n",
    "\n",
    "mi_vaca.hablar()"
   ]
  },
  {
   "cell_type": "code",
   "execution_count": 53,
   "metadata": {},
   "outputs": [
    {
     "name": "stdout",
     "output_type": "stream",
     "text": [
      "soy un animal del tipo Abeja\n"
     ]
    }
   ],
   "source": [
    "#llamamos al método defíneme, que lo hereda directemnete de la clase genérica Animal:\n",
    "mi_abeja.defíneme()"
   ]
  },
  {
   "cell_type": "code",
   "execution_count": 56,
   "metadata": {},
   "outputs": [
    {
     "name": "stdout",
     "output_type": "stream",
     "text": [
      "picar!\n"
     ]
    },
    {
     "ename": "AttributeError",
     "evalue": "'Perro' object has no attribute 'picar'",
     "output_type": "error",
     "traceback": [
      "\u001b[0;31m---------------------------------------------------------------------------\u001b[0m",
      "\u001b[0;31mAttributeError\u001b[0m                            Traceback (most recent call last)",
      "\u001b[1;32m/Users/linamaria/Documents/Aprendizaje/Henry/Python-Prep/M08_clasesyOOP/Práctica 08.ipynb Cell 18\u001b[0m line \u001b[0;36m5\n\u001b[1;32m      <a href='vscode-notebook-cell:/Users/linamaria/Documents/Aprendizaje/Henry/Python-Prep/M08_clasesyOOP/Pr%C3%A1ctica%2008.ipynb#X31sZmlsZQ%3D%3D?line=1'>2</a>\u001b[0m mi_abeja\u001b[39m.\u001b[39mpicar()\n\u001b[1;32m      <a href='vscode-notebook-cell:/Users/linamaria/Documents/Aprendizaje/Henry/Python-Prep/M08_clasesyOOP/Pr%C3%A1ctica%2008.ipynb#X31sZmlsZQ%3D%3D?line=3'>4</a>\u001b[0m \u001b[39m#las otras subclases no tienen este atributo, por ello hay error\u001b[39;00m\n\u001b[0;32m----> <a href='vscode-notebook-cell:/Users/linamaria/Documents/Aprendizaje/Henry/Python-Prep/M08_clasesyOOP/Pr%C3%A1ctica%2008.ipynb#X31sZmlsZQ%3D%3D?line=4'>5</a>\u001b[0m mi_perro\u001b[39m.\u001b[39;49mpicar()\n",
      "\u001b[0;31mAttributeError\u001b[0m: 'Perro' object has no attribute 'picar'"
     ]
    }
   ],
   "source": [
    "#llamamos al método picar que solo lo tiene abeja:\n",
    "mi_abeja.picar()\n",
    "\n",
    "#las otras subclases no tienen este atributo, por ello hay error\n",
    "mi_perro.picar()"
   ]
  },
  {
   "cell_type": "code",
   "execution_count": 57,
   "metadata": {},
   "outputs": [],
   "source": [
    "class Animal:\n",
    "    def __init__(self, especie, edad):\n",
    "        self.especie = especie\n",
    "        self.edad = edad\n",
    "\n",
    "    #método genérico pero con implementación particular\n",
    "\n",
    "    def hablar (self):\n",
    "        #método vacío\n",
    "        pass\n",
    "\n",
    "    #método genérico pero con implementación particular\n",
    "    def moverse (self):\n",
    "         #método vacío\n",
    "        pass\n",
    "\n",
    "    #método genérico pero con la misma implementación\n",
    "\n",
    "    def defíneme (self):\n",
    "        print(\"soy un animal del tipo\", type(self).__name__)"
   ]
  },
  {
   "cell_type": "code",
   "execution_count": 58,
   "metadata": {},
   "outputs": [],
   "source": [
    "#fx super()\n",
    "class Perro(Animal):\n",
    "    def __init__(self, especie, edad, dueño):\n",
    "        super().__init__(especie, edad)\n",
    "        self.dueño = dueño"
   ]
  },
  {
   "cell_type": "code",
   "execution_count": 59,
   "metadata": {},
   "outputs": [],
   "source": [
    "nuevo_perro = Perro (\"mamífero\", 10, \"Lini\")"
   ]
  },
  {
   "cell_type": "code",
   "execution_count": 60,
   "metadata": {},
   "outputs": [
    {
     "name": "stdout",
     "output_type": "stream",
     "text": [
      "mamífero\n",
      "10\n",
      "Lini\n"
     ]
    }
   ],
   "source": [
    "print(nuevo_perro.especie)\n",
    "print(nuevo_perro.edad)\n",
    "print(nuevo_perro.dueño)"
   ]
  },
  {
   "cell_type": "code",
   "execution_count": 1,
   "metadata": {},
   "outputs": [
    {
     "name": "stdout",
     "output_type": "stream",
     "text": [
      "4.0\n"
     ]
    }
   ],
   "source": [
    "#Módulos y librerías\n",
    "\n",
    "import math\n",
    "\n",
    "x = 16\n",
    "\n",
    "raiz_cuadrada= math.sqrt(x)\n",
    "print(raiz_cuadrada)"
   ]
  },
  {
   "cell_type": "code",
   "execution_count": 2,
   "metadata": {},
   "outputs": [
    {
     "name": "stdout",
     "output_type": "stream",
     "text": [
      "25\n",
      "80\n"
     ]
    }
   ],
   "source": [
    "#importar mi modulo a mi código\n",
    "\n",
    "import Mimódulo_práctica\n",
    "\n",
    "print (Mimódulo_práctica.suma (10,15))\n",
    "print (Mimódulo_práctica.resta (100,20))"
   ]
  },
  {
   "cell_type": "code",
   "execution_count": 3,
   "metadata": {},
   "outputs": [
    {
     "name": "stdout",
     "output_type": "stream",
     "text": [
      "24\n"
     ]
    }
   ],
   "source": [
    "#solo importar el componente que me interesa de mi módulo, ejemplo la suma\n",
    "\n",
    "from Mimódulo_práctica import suma\n",
    "\n",
    "print(suma(12,12))"
   ]
  },
  {
   "cell_type": "code",
   "execution_count": 4,
   "metadata": {},
   "outputs": [
    {
     "name": "stdout",
     "output_type": "stream",
     "text": [
      "14\n"
     ]
    }
   ],
   "source": [
    "#importar todo el módulo con asterisco\n",
    "\n",
    "from Mimódulo_práctica import *\n",
    "\n",
    "print(resta(22,8))"
   ]
  },
  {
   "cell_type": "code",
   "execution_count": 15,
   "metadata": {},
   "outputs": [
    {
     "name": "stdout",
     "output_type": "stream",
     "text": [
      "hola\n",
      "None\n"
     ]
    }
   ],
   "source": [
    "# sys.path\n",
    "from Módulo import *\n",
    "\n",
    "print(hola())"
   ]
  },
  {
   "cell_type": "code",
   "execution_count": 16,
   "metadata": {},
   "outputs": [
    {
     "name": "stdout",
     "output_type": "stream",
     "text": [
      "['/Users/linamaria/Documents/Aprendizaje/Henry/Python-Prep/M08_clasesyOOP', '/Library/Frameworks/Python.framework/Versions/3.11/lib/python311.zip', '/Library/Frameworks/Python.framework/Versions/3.11/lib/python3.11', '/Library/Frameworks/Python.framework/Versions/3.11/lib/python3.11/lib-dynload', '', '/Users/linamaria/Library/Python/3.11/lib/python/site-packages', '/Library/Frameworks/Python.framework/Versions/3.11/lib/python3.11/site-packages']\n"
     ]
    }
   ],
   "source": [
    "import sys\n",
    "print(sys.path)"
   ]
  },
  {
   "cell_type": "code",
   "execution_count": 17,
   "metadata": {},
   "outputs": [
    {
     "ename": "SyntaxError",
     "evalue": "incomplete input (1935116724.py, line 5)",
     "output_type": "error",
     "traceback": [
      "\u001b[0;36m  Cell \u001b[0;32mIn[17], line 5\u001b[0;36m\u001b[0m\n\u001b[0;31m    sys.path.append(#el nombre de la ruta de mi módulo)\u001b[0m\n\u001b[0m                                                       ^\u001b[0m\n\u001b[0;31mSyntaxError\u001b[0m\u001b[0;31m:\u001b[0m incomplete input\n"
     ]
    }
   ],
   "source": [
    "#añadir una ruta de búsqueda de mi módulo a sys.path\n",
    "\n",
    "import sys\n",
    "\n",
    "sys.path.append(#el nombre de la ruta de mi módulo)"
   ]
  },
  {
   "cell_type": "code",
   "execution_count": 18,
   "metadata": {},
   "outputs": [],
   "source": [
    "#cambiar de nombre a un módulo\n",
    "\n",
    "import Móduloconnombrelargo"
   ]
  },
  {
   "cell_type": "code",
   "execution_count": 21,
   "metadata": {},
   "outputs": [
    {
     "name": "stdout",
     "output_type": "stream",
     "text": [
      "hola\n"
     ]
    }
   ],
   "source": [
    "import Móduloconnombrelargo as M\n",
    "\n",
    "print(M.hola)\n"
   ]
  },
  {
   "cell_type": "code",
   "execution_count": 22,
   "metadata": {},
   "outputs": [
    {
     "name": "stdout",
     "output_type": "stream",
     "text": [
      "['__builtins__', '__cached__', '__doc__', '__file__', '__loader__', '__name__', '__package__', '__spec__', 'resta', 'suma']\n"
     ]
    }
   ],
   "source": [
    "#dir para ver las variables que se han agregado por mi (resta y suma) o por default con __\n",
    "\n",
    "import Mimódulo_práctica\n",
    "print(dir(Mimódulo_práctica))"
   ]
  },
  {
   "cell_type": "code",
   "execution_count": 25,
   "metadata": {},
   "outputs": [
    {
     "name": "stdout",
     "output_type": "stream",
     "text": [
      "Mimódulo_práctica\n"
     ]
    }
   ],
   "source": [
    "print(Mimódulo_práctica.__name__)"
   ]
  },
  {
   "cell_type": "code",
   "execution_count": 26,
   "metadata": {},
   "outputs": [
    {
     "name": "stdout",
     "output_type": "stream",
     "text": [
      "/Users/linamaria/Documents/Aprendizaje/Henry/Python-Prep/M08_clasesyOOP/Mimódulo_práctica.py\n"
     ]
    }
   ],
   "source": [
    "print(Mimódulo_práctica.__file__)"
   ]
  }
 ],
 "metadata": {
  "kernelspec": {
   "display_name": "Python 3",
   "language": "python",
   "name": "python3"
  },
  "language_info": {
   "codemirror_mode": {
    "name": "ipython",
    "version": 3
   },
   "file_extension": ".py",
   "mimetype": "text/x-python",
   "name": "python",
   "nbconvert_exporter": "python",
   "pygments_lexer": "ipython3",
   "version": "3.11.4"
  },
  "orig_nbformat": 4
 },
 "nbformat": 4,
 "nbformat_minor": 2
}
