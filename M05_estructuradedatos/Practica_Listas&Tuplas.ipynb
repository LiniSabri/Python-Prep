{
 "cells": [
  {
   "cell_type": "code",
   "execution_count": 3,
   "metadata": {},
   "outputs": [
    {
     "data": {
      "text/plain": [
       "list"
      ]
     },
     "execution_count": 3,
     "metadata": {},
     "output_type": "execute_result"
    }
   ],
   "source": [
    "# listas, con corchetes cuadrados y puede tener diferentes tipos de valores, hasta otra lista, booleans\n",
    "\n",
    "mi_lista = [45, 8.4, \"Lini\", [1,2,3,4,], True]\n",
    "\n",
    "type(mi_lista)"
   ]
  },
  {
   "cell_type": "code",
   "execution_count": 4,
   "metadata": {},
   "outputs": [],
   "source": [
    "mi_lista_vacia = []"
   ]
  },
  {
   "cell_type": "code",
   "execution_count": 5,
   "metadata": {},
   "outputs": [
    {
     "data": {
      "text/plain": [
       "'Lini'"
      ]
     },
     "execution_count": 5,
     "metadata": {},
     "output_type": "execute_result"
    }
   ],
   "source": [
    "# accedo a un elemento de la lista por su indice\n",
    "mi_lista[2]"
   ]
  },
  {
   "cell_type": "code",
   "execution_count": 7,
   "metadata": {},
   "outputs": [
    {
     "data": {
      "text/plain": [
       "[8.4, 'Lini', [1, 2, 3, 4]]"
      ]
     },
     "execution_count": 7,
     "metadata": {},
     "output_type": "execute_result"
    }
   ],
   "source": [
    "# si quiero acceder a una rebanada o slice de la lista, un grupo\"\n",
    "mi_lista[1:4]"
   ]
  },
  {
   "cell_type": "code",
   "execution_count": 9,
   "metadata": {},
   "outputs": [
    {
     "name": "stdout",
     "output_type": "stream",
     "text": [
      "[45, 8.4, 'Lini', [1, 2, 3, 4], True, 'nuevo dato', 'nuevo dato']\n"
     ]
    }
   ],
   "source": [
    "#agregar elemento a la lista al final de ella\n",
    "\n",
    "mi_lista.append(\"nuevo dato\")\n",
    "print(mi_lista)"
   ]
  },
  {
   "cell_type": "code",
   "execution_count": 21,
   "metadata": {},
   "outputs": [
    {
     "name": "stdout",
     "output_type": "stream",
     "text": [
      "[45, 8.4, 'posicion 2', 'Lini', [1, 2, 3, 4], True]\n"
     ]
    }
   ],
   "source": [
    "#otro metodo para agregar\n",
    "mi_lista = [45, 8.4, \"Lini\", [1,2,3,4,], True]\n",
    "mi_lista.insert(2,\"posicion\")\n",
    "print(mi_lista)"
   ]
  },
  {
   "cell_type": "code",
   "execution_count": 16,
   "metadata": {},
   "outputs": [],
   "source": [
    "#tupla, Se crean así no mas:\n",
    "ultima_tupla = \"Lini\", \"Dini\", \"Gonzi\""
   ]
  },
  {
   "cell_type": "code",
   "execution_count": 17,
   "metadata": {},
   "outputs": [
    {
     "data": {
      "text/plain": [
       "tuple"
      ]
     },
     "execution_count": 17,
     "metadata": {},
     "output_type": "execute_result"
    }
   ],
   "source": [
    "type(ultima_tupla)"
   ]
  },
  {
   "cell_type": "code",
   "execution_count": 19,
   "metadata": {},
   "outputs": [
    {
     "name": "stdout",
     "output_type": "stream",
     "text": [
      "Lini\n",
      "Dini\n",
      "Gonzi\n"
     ]
    }
   ],
   "source": [
    "#desempaquetar la tupla\n",
    "nombre1, nombre2, nombre3 = ultima_tupla\n",
    "print(nombre1)\n",
    "print(nombre2)\n",
    "print(nombre3) "
   ]
  },
  {
   "cell_type": "code",
   "execution_count": null,
   "metadata": {},
   "outputs": [],
   "source": [
    "#diccionarios {} se hacen con clave:valor\n",
    "\n"
   ]
  },
  {
   "cell_type": "code",
   "execution_count": 1,
   "metadata": {},
   "outputs": [
    {
     "name": "stdout",
     "output_type": "stream",
     "text": [
      "4\n"
     ]
    }
   ],
   "source": [
    "examples = [\"red\", \"green\", \"blue\", \"orange\"]\n",
    "print(len(examples))"
   ]
  },
  {
   "cell_type": "code",
   "execution_count": 2,
   "metadata": {},
   "outputs": [
    {
     "name": "stdout",
     "output_type": "stream",
     "text": [
      "red\n",
      "green\n",
      "blue\n",
      "orange\n"
     ]
    }
   ],
   "source": [
    "for color in range(len(examples)):\n",
    "   print(examples[color])"
   ]
  },
  {
   "cell_type": "code",
   "execution_count": 3,
   "metadata": {},
   "outputs": [
    {
     "name": "stdout",
     "output_type": "stream",
     "text": [
      "Hydrogen\n",
      "Oxygen\n",
      "Carbon\n",
      "Nitrogen\n",
      "Carbon\n",
      "Carbon\n",
      "Hydrogen\n",
      "Carbon\n",
      "Oxygen\n",
      "Helium\n"
     ]
    }
   ],
   "source": [
    "from random import randint\n",
    "\n",
    "elements = ['Hydrogen', 'Helium', 'Carbon', 'Oxygen', 'Nitrogen']\n",
    "\n",
    "for count in range(10):\n",
    "    index = randint(0, len(elements) - 1)\n",
    "    print(elements[index])"
   ]
  },
  {
   "cell_type": "code",
   "execution_count": 4,
   "metadata": {},
   "outputs": [
    {
     "name": "stdout",
     "output_type": "stream",
     "text": [
      "['shirt', 'shirt']\n",
      "['pants', 'pants']\n"
     ]
    }
   ],
   "source": [
    "#slicing lists\n",
    "\n",
    "suitcase = [\"shirt\", \"shirt\", \"pants\", \"pants\", \"pajamas\", \"books\"]\n",
    "\n",
    "beginning = suitcase[0:2]\n",
    "\n",
    "# Your code below: \n",
    "print(beginning)\n",
    "\n",
    "middle = suitcase[2:4]\n",
    "print(middle)"
   ]
  },
  {
   "cell_type": "code",
   "execution_count": 5,
   "metadata": {},
   "outputs": [
    {
     "name": "stdout",
     "output_type": "stream",
     "text": [
      "['pajamas', 'books']\n"
     ]
    }
   ],
   "source": [
    "suitcase = [\"shirt\", \"shirt\", \"pants\", \"pants\", \"pajamas\", \"books\"]\n",
    "\n",
    "last_two_elements = suitcase[-2:]\n",
    "print(last_two_elements)"
   ]
  },
  {
   "cell_type": "code",
   "execution_count": 6,
   "metadata": {},
   "outputs": [
    {
     "name": "stdout",
     "output_type": "stream",
     "text": [
      "orange\n",
      "orange\n"
     ]
    }
   ],
   "source": [
    "#si quiero encontrar el ultimo elemento de una lista puedo usar esyas 2 alternativas:\n",
    "colors = ['red', 'green', 'blue', 'yellow', 'orange']\n",
    "\n",
    "print(colors[-1])\n",
    "\n",
    "print(colors[len(colors) - 1])"
   ]
  },
  {
   "cell_type": "code",
   "execution_count": 7,
   "metadata": {},
   "outputs": [
    {
     "name": "stdout",
     "output_type": "stream",
     "text": [
      "9\n"
     ]
    }
   ],
   "source": [
    "#method .count()\n",
    "votes = [\"Jake\", \"Jake\", \"Laurie\", \"Laurie\", \"Laurie\", \"Jake\", \"Jake\", \"Jake\", \"Laurie\", \"Cassie\", \"Cassie\", \"Jake\", \"Jake\", \"Cassie\", \"Laurie\", \"Cassie\", \"Jake\", \"Jake\", \"Cassie\", \"Laurie\"]\n",
    "\n",
    "# Your code below: \n",
    "jake_votes = votes.count(\"Jake\")\n",
    "print(jake_votes)"
   ]
  },
  {
   "cell_type": "code",
   "execution_count": 8,
   "metadata": {},
   "outputs": [
    {
     "name": "stdout",
     "output_type": "stream",
     "text": [
      "['10 Downing St.', '12 Grimmauld Place', '1600 Pennsylvania Ave', '221 B Baker St.', '42 Wallaby Way', '742 Evergreen Terrace']\n",
      "['Albus', 'Harry', 'Hermione', 'Ron', 'Sirius']\n",
      "None\n"
     ]
    }
   ],
   "source": [
    "#The .sort() \n",
    "addresses = [\"221 B Baker St.\", \"42 Wallaby Way\", \"12 Grimmauld Place\", \"742 Evergreen Terrace\", \"1600 Pennsylvania Ave\", \"10 Downing St.\"]\n",
    "\n",
    "addresses.sort()\n",
    "print(addresses)\n",
    "\n",
    "\n",
    "# Checkpoint 3\n",
    "names = [\"Ron\", \"Hermione\", \"Harry\", \"Albus\", \"Sirius\"]\n",
    "names.sort()\n",
    "print(names)\n",
    "\n",
    "# Checkpoint 4 & 5 not return any value and thus does not need to be assigned to a variable. This is why we will see the value of None as our output for sorted_citiesNew\n",
    "cities = [\"London\", \"Paris\", \"Rome\", \"Los Angeles\", \"New York\"]\n",
    "sorted_cities = cities.sort()\n",
    "print(sorted_cities) "
   ]
  },
  {
   "cell_type": "code",
   "execution_count": 9,
   "metadata": {},
   "outputs": [
    {
     "name": "stdout",
     "output_type": "stream",
     "text": [
      "['Rome', 'Paris', 'New York', 'Los Angeles', 'London']\n"
     ]
    }
   ],
   "source": [
    "#sort in reverse order , descending\n",
    "cities = [\"London\", \"Paris\", \"Rome\", \"Los Angeles\", \"New York\"]\n",
    "cities.sort(reverse=True)\n",
    "print(cities)"
   ]
  },
  {
   "cell_type": "code",
   "execution_count": null,
   "metadata": {},
   "outputs": [],
   "source": [
    "# Function sorted()\n",
    "#The sorted() function is different from the .sort() method in two ways:\n",
    "#It comes before a list, instead of after as all built-in functions do.\n",
    "#It generates a new list rather than modifying the one that already exists.\n",
    "\n",
    "games = [\"Portal\", \"Minecraft\", \"Pacman\", \"Tetris\", \"The Sims\", \"Pokemon\"]\n",
    "\n",
    "# Your code below:\n",
    "games_sorted = sorted(games)\n",
    "print(games_sorted)\n",
    "print(games)"
   ]
  }
 ],
 "metadata": {
  "kernelspec": {
   "display_name": "Python 3",
   "language": "python",
   "name": "python3"
  },
  "language_info": {
   "codemirror_mode": {
    "name": "ipython",
    "version": 3
   },
   "file_extension": ".py",
   "mimetype": "text/x-python",
   "name": "python",
   "nbconvert_exporter": "python",
   "pygments_lexer": "ipython3",
   "version": "3.11.4"
  },
  "orig_nbformat": 4
 },
 "nbformat": 4,
 "nbformat_minor": 2
}
