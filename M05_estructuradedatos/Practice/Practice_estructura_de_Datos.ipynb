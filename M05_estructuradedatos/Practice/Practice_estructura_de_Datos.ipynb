{
 "cells": [
  {
   "cell_type": "code",
   "execution_count": 1,
   "metadata": {},
   "outputs": [],
   "source": [
    "primer_diccionario=dict()"
   ]
  },
  {
   "cell_type": "code",
   "execution_count": 2,
   "metadata": {},
   "outputs": [
    {
     "data": {
      "text/plain": [
       "{}"
      ]
     },
     "execution_count": 2,
     "metadata": {},
     "output_type": "execute_result"
    }
   ],
   "source": [
    "primer_diccionario"
   ]
  },
  {
   "cell_type": "code",
   "execution_count": 3,
   "metadata": {},
   "outputs": [
    {
     "data": {
      "text/plain": [
       "dict"
      ]
     },
     "execution_count": 3,
     "metadata": {},
     "output_type": "execute_result"
    }
   ],
   "source": [
    "type(primer_diccionario)"
   ]
  },
  {
   "cell_type": "code",
   "execution_count": 4,
   "metadata": {},
   "outputs": [],
   "source": [
    "primer_diccionario[\"primero\"]=\"uno\""
   ]
  },
  {
   "cell_type": "code",
   "execution_count": 5,
   "metadata": {},
   "outputs": [
    {
     "name": "stdout",
     "output_type": "stream",
     "text": [
      "{'primero': 'uno'}\n"
     ]
    }
   ],
   "source": [
    "print(primer_diccionario)"
   ]
  },
  {
   "cell_type": "code",
   "execution_count": 6,
   "metadata": {},
   "outputs": [
    {
     "name": "stdout",
     "output_type": "stream",
     "text": [
      "{'primero': 'uno', 'segundo': 'dos', 'tercero': 'tres'}\n"
     ]
    }
   ],
   "source": [
    "primer_diccionario[\"segundo\"]=\"dos\"\n",
    "primer_diccionario[\"tercero\"]=\"tres\"\n",
    "print(primer_diccionario)"
   ]
  },
  {
   "cell_type": "code",
   "execution_count": 10,
   "metadata": {},
   "outputs": [
    {
     "name": "stdout",
     "output_type": "stream",
     "text": [
      "{'cuatro': 4, 'cinco': 5, 'seis': 6}\n"
     ]
    }
   ],
   "source": [
    "segundo_diccionario={\"cuatro\":4, \"cinco\": 5, \"seis\":6}\n",
    "print(segundo_diccionario)"
   ]
  },
  {
   "cell_type": "code",
   "execution_count": 12,
   "metadata": {},
   "outputs": [
    {
     "name": "stdout",
     "output_type": "stream",
     "text": [
      "4\n"
     ]
    }
   ],
   "source": [
    "#para acceder a un valor determinado, busco por la clave respectiva:\n",
    "print(segundo_diccionario[\"cuatro\"])"
   ]
  },
  {
   "cell_type": "code",
   "execution_count": 13,
   "metadata": {},
   "outputs": [],
   "source": [
    "#puedo crear diccionarios con diferentes tipos de valores: listas, enteros o booleanos:\n",
    "mi_diccionario={\"colores primarios\":[\"rojo\", \"amarillo\", \"azul\"],\n",
    "                \"colores secundario\":[\"naranja\",\"violeta\",\"verde\"],\n",
    "                \"clave 3\": 10,\n",
    "                \"clave 4\": False}"
   ]
  },
  {
   "cell_type": "code",
   "execution_count": 14,
   "metadata": {},
   "outputs": [
    {
     "name": "stdout",
     "output_type": "stream",
     "text": [
      "{'colores primarios': ['rojo', 'amarillo', 'azul'], 'colores secundario': ['naranja', 'violeta', 'verde'], 'clave 3': 10, 'clave 4': False}\n"
     ]
    }
   ],
   "source": [
    "print(mi_diccionario)"
   ]
  },
  {
   "cell_type": "code",
   "execution_count": 17,
   "metadata": {},
   "outputs": [
    {
     "name": "stdout",
     "output_type": "stream",
     "text": [
      "{'colores primarios': ['rojo', 'amarillo', 'azul'], 'colores secundario': ['naranja', 'violeta', 'verde'], 'clave 3': 10}\n"
     ]
    }
   ],
   "source": [
    "#para eliminar un elemento del diccionario se usa la función del y la clave del elemento a eliminar:\n",
    "del mi_diccionario[\"clave 4\"]\n",
    "print(mi_diccionario)"
   ]
  },
  {
   "cell_type": "code",
   "execution_count": 18,
   "metadata": {},
   "outputs": [
    {
     "name": "stdout",
     "output_type": "stream",
     "text": [
      "{'Argentina': 'Baires', 'Italia': 'Roma', 'Inglaterra': 'Londres'}\n"
     ]
    }
   ],
   "source": [
    "#puedo usar una tupla como clave de un diccionario:\n",
    "mi_tupla=(\"Argentina\", \"Italia\", \"Inglaterra\")\n",
    "\n",
    "mi_diccionario = {mi_tupla[0]:\"Baires\",\n",
    "                  mi_tupla[1]:\"Roma\",\n",
    "                  mi_tupla[2]: \"Londres\"}\n",
    "\n",
    "print(mi_diccionario)"
   ]
  },
  {
   "cell_type": "code",
   "execution_count": 19,
   "metadata": {},
   "outputs": [
    {
     "name": "stdout",
     "output_type": "stream",
     "text": [
      "{'clave1': 'valor1', 'clave2': (1, 2, 3, 4, 5)}\n"
     ]
    }
   ],
   "source": [
    "#se puede poner una tupla dentro de un diccionario:\n",
    "\n",
    "mi_diccionario = { \"clave1\": \"valor1\" , \"clave2\": (1,2,3,4,5)}\n",
    "print(mi_diccionario)"
   ]
  },
  {
   "cell_type": "code",
   "execution_count": 20,
   "metadata": {},
   "outputs": [
    {
     "name": "stdout",
     "output_type": "stream",
     "text": [
      "{'clave1': 'valor1', 'clave2': [1, 2, 3, 4, 5]}\n"
     ]
    }
   ],
   "source": [
    "#puedo tamnbien poner una lista dentro del diccionario:\n",
    "\n",
    "mi_diccionario = { \"clave1\": \"valor1\" , \"clave2\": [1,2,3,4,5]}\n",
    "print(mi_diccionario)\n"
   ]
  },
  {
   "cell_type": "code",
   "execution_count": 22,
   "metadata": {},
   "outputs": [
    {
     "name": "stdout",
     "output_type": "stream",
     "text": [
      "{'clave1': 'valor1', 'clave2': {'números': [1, 2, 3, 4, 5]}}\n"
     ]
    }
   ],
   "source": [
    "#se puede incluir un diccionario dentro de un diccionario:\n",
    "\n",
    "mi_diccionario = {\"clave1\": \"valor1\", \"clave2\":{\"números\":[1,2,3,4,5]}}\n",
    "\n",
    "print(mi_diccionario)"
   ]
  },
  {
   "cell_type": "code",
   "execution_count": 24,
   "metadata": {},
   "outputs": [
    {
     "name": "stdout",
     "output_type": "stream",
     "text": [
      "dict_keys(['clave1', 'clave2'])\n"
     ]
    }
   ],
   "source": [
    "#para imprimir las claves de un diccionario se utiliza la función keys con punto y paréntesis:\n",
    "print(mi_diccionario.keys())"
   ]
  },
  {
   "cell_type": "code",
   "execution_count": 25,
   "metadata": {},
   "outputs": [
    {
     "name": "stdout",
     "output_type": "stream",
     "text": [
      "dict_values(['valor1', {'números': [1, 2, 3, 4, 5]}])\n"
     ]
    }
   ],
   "source": [
    "#para imprimir los valores de un diccionario se utiliza la función values con punto y paréntesis:\n",
    "print(mi_diccionario.values())"
   ]
  },
  {
   "cell_type": "code",
   "execution_count": 26,
   "metadata": {},
   "outputs": [
    {
     "data": {
      "text/plain": [
       "2"
      ]
     },
     "execution_count": 26,
     "metadata": {},
     "output_type": "execute_result"
    }
   ],
   "source": [
    "#para saber la longitud o cuantosa pares clave-valor tiene un diccionario, se utiliza la función len:\n",
    "#len tambien sirve para saber el tamaño de una lista o una tupla con esta misma sintaxis y entre paréntesis el nombre de la lista o la tupla\n",
    "\n",
    "len(mi_diccionario)"
   ]
  }
 ],
 "metadata": {
  "kernelspec": {
   "display_name": "Python 3",
   "language": "python",
   "name": "python3"
  },
  "language_info": {
   "codemirror_mode": {
    "name": "ipython",
    "version": 3
   },
   "file_extension": ".py",
   "mimetype": "text/x-python",
   "name": "python",
   "nbconvert_exporter": "python",
   "pygments_lexer": "ipython3",
   "version": "3.11.4"
  },
  "orig_nbformat": 4
 },
 "nbformat": 4,
 "nbformat_minor": 2
}
