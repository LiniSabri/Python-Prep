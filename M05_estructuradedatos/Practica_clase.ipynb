{
 "cells": [
  {
   "cell_type": "code",
   "execution_count": 3,
   "metadata": {},
   "outputs": [
    {
     "data": {
      "text/plain": [
       "list"
      ]
     },
     "execution_count": 3,
     "metadata": {},
     "output_type": "execute_result"
    }
   ],
   "source": [
    "# listas, con corchetes cuadrados y puede tener diferentes tipos de valores, hasta otra lista, booleans\n",
    "\n",
    "mi_lista = [45, 8.4, \"Lini\", [1,2,3,4,], True]\n",
    "\n",
    "type(mi_lista)"
   ]
  },
  {
   "cell_type": "code",
   "execution_count": 4,
   "metadata": {},
   "outputs": [],
   "source": [
    "mi_lista_vacia = []"
   ]
  },
  {
   "cell_type": "code",
   "execution_count": 5,
   "metadata": {},
   "outputs": [
    {
     "data": {
      "text/plain": [
       "'Lini'"
      ]
     },
     "execution_count": 5,
     "metadata": {},
     "output_type": "execute_result"
    }
   ],
   "source": [
    "# accedo a un elemento de la lista por su indice\n",
    "mi_lista[2]"
   ]
  },
  {
   "cell_type": "code",
   "execution_count": 7,
   "metadata": {},
   "outputs": [
    {
     "data": {
      "text/plain": [
       "[8.4, 'Lini', [1, 2, 3, 4]]"
      ]
     },
     "execution_count": 7,
     "metadata": {},
     "output_type": "execute_result"
    }
   ],
   "source": [
    "# si quiero acceder a una rebanada o slice de la lista, un grupo\"\n",
    "mi_lista[1:4]"
   ]
  },
  {
   "cell_type": "code",
   "execution_count": 9,
   "metadata": {},
   "outputs": [
    {
     "name": "stdout",
     "output_type": "stream",
     "text": [
      "[45, 8.4, 'Lini', [1, 2, 3, 4], True, 'nuevo dato', 'nuevo dato']\n"
     ]
    }
   ],
   "source": [
    "#agregar elemento a la lista al final de ella\n",
    "\n",
    "mi_lista.append(\"nuevo dato\")\n",
    "print(mi_lista)"
   ]
  },
  {
   "cell_type": "code",
   "execution_count": 15,
   "metadata": {},
   "outputs": [
    {
     "name": "stdout",
     "output_type": "stream",
     "text": [
      "[45, 8.4, 'posicion 2', 'posicion 2', 'posicion 2', 'posicion 2', 'poscion 2', 'poscion 2', 'Lini', [1, 2, 3, 4], True, 'nuevo dato', 'nuevo dato']\n"
     ]
    }
   ],
   "source": [
    "#otro metodo para agregar\n",
    "mi_lista.insert(2,\"posicion 2\")\n",
    "print(mi_lista)"
   ]
  },
  {
   "cell_type": "code",
   "execution_count": 16,
   "metadata": {},
   "outputs": [],
   "source": [
    "#tupla, Se crean así no mas:\n",
    "ultima_tupla = \"Lini\", \"Dini\", \"Gonzi\""
   ]
  },
  {
   "cell_type": "code",
   "execution_count": 17,
   "metadata": {},
   "outputs": [
    {
     "data": {
      "text/plain": [
       "tuple"
      ]
     },
     "execution_count": 17,
     "metadata": {},
     "output_type": "execute_result"
    }
   ],
   "source": [
    "type(ultima_tupla)"
   ]
  },
  {
   "cell_type": "code",
   "execution_count": 19,
   "metadata": {},
   "outputs": [
    {
     "name": "stdout",
     "output_type": "stream",
     "text": [
      "Lini\n",
      "Dini\n",
      "Gonzi\n"
     ]
    }
   ],
   "source": [
    "#desempaquetar la tupla\n",
    "nombre1, nombre2, nombre3 = ultima_tupla\n",
    "print(nombre1)\n",
    "print(nombre2)\n",
    "print(nombre3) "
   ]
  },
  {
   "cell_type": "code",
   "execution_count": null,
   "metadata": {},
   "outputs": [],
   "source": [
    "#diccionarios {} se hacen con clave:valor\n",
    "\n"
   ]
  }
 ],
 "metadata": {
  "kernelspec": {
   "display_name": "Python 3",
   "language": "python",
   "name": "python3"
  },
  "language_info": {
   "codemirror_mode": {
    "name": "ipython",
    "version": 3
   },
   "file_extension": ".py",
   "mimetype": "text/x-python",
   "name": "python",
   "nbconvert_exporter": "python",
   "pygments_lexer": "ipython3",
   "version": "3.11.4"
  },
  "orig_nbformat": 4
 },
 "nbformat": 4,
 "nbformat_minor": 2
}
